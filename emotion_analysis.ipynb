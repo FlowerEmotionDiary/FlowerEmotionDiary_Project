{
  "cells": [
    {
      "cell_type": "code",
      "execution_count": 1,
      "metadata": {
        "colab": {
          "base_uri": "https://localhost:8080/"
        },
        "id": "D5SABt_bEXXw",
        "outputId": "831b2f17-6382-4039-ae69-b8327b5692f4"
      },
      "outputs": [
        {
          "name": "stdout",
          "output_type": "stream",
          "text": [
            "Requirement already satisfied: fasttext in /usr/local/lib/python3.7/dist-packages (0.9.2)\n",
            "Requirement already satisfied: setuptools>=0.7.0 in /usr/local/lib/python3.7/dist-packages (from fasttext) (57.4.0)\n",
            "Requirement already satisfied: numpy in /usr/local/lib/python3.7/dist-packages (from fasttext) (1.19.5)\n",
            "Requirement already satisfied: pybind11>=2.2 in /usr/local/lib/python3.7/dist-packages (from fasttext) (2.8.1)\n",
            "Requirement already satisfied: konlpy in /usr/local/lib/python3.7/dist-packages (0.5.2)\n",
            "Requirement already satisfied: JPype1>=0.7.0 in /usr/local/lib/python3.7/dist-packages (from konlpy) (1.3.0)\n",
            "Requirement already satisfied: beautifulsoup4==4.6.0 in /usr/local/lib/python3.7/dist-packages (from konlpy) (4.6.0)\n",
            "Requirement already satisfied: lxml>=4.1.0 in /usr/local/lib/python3.7/dist-packages (from konlpy) (4.2.6)\n",
            "Requirement already satisfied: numpy>=1.6 in /usr/local/lib/python3.7/dist-packages (from konlpy) (1.19.5)\n",
            "Requirement already satisfied: tweepy>=3.7.0 in /usr/local/lib/python3.7/dist-packages (from konlpy) (3.10.0)\n",
            "Requirement already satisfied: colorama in /usr/local/lib/python3.7/dist-packages (from konlpy) (0.4.4)\n",
            "Requirement already satisfied: typing-extensions in /usr/local/lib/python3.7/dist-packages (from JPype1>=0.7.0->konlpy) (3.10.0.2)\n",
            "Requirement already satisfied: requests-oauthlib>=0.7.0 in /usr/local/lib/python3.7/dist-packages (from tweepy>=3.7.0->konlpy) (1.3.0)\n",
            "Requirement already satisfied: six>=1.10.0 in /usr/local/lib/python3.7/dist-packages (from tweepy>=3.7.0->konlpy) (1.15.0)\n",
            "Requirement already satisfied: requests[socks]>=2.11.1 in /usr/local/lib/python3.7/dist-packages (from tweepy>=3.7.0->konlpy) (2.23.0)\n",
            "Requirement already satisfied: oauthlib>=3.0.0 in /usr/local/lib/python3.7/dist-packages (from requests-oauthlib>=0.7.0->tweepy>=3.7.0->konlpy) (3.1.1)\n",
            "Requirement already satisfied: chardet<4,>=3.0.2 in /usr/local/lib/python3.7/dist-packages (from requests[socks]>=2.11.1->tweepy>=3.7.0->konlpy) (3.0.4)\n",
            "Requirement already satisfied: urllib3!=1.25.0,!=1.25.1,<1.26,>=1.21.1 in /usr/local/lib/python3.7/dist-packages (from requests[socks]>=2.11.1->tweepy>=3.7.0->konlpy) (1.24.3)\n",
            "Requirement already satisfied: idna<3,>=2.5 in /usr/local/lib/python3.7/dist-packages (from requests[socks]>=2.11.1->tweepy>=3.7.0->konlpy) (2.10)\n",
            "Requirement already satisfied: certifi>=2017.4.17 in /usr/local/lib/python3.7/dist-packages (from requests[socks]>=2.11.1->tweepy>=3.7.0->konlpy) (2021.10.8)\n",
            "Requirement already satisfied: PySocks!=1.5.7,>=1.5.6 in /usr/local/lib/python3.7/dist-packages (from requests[socks]>=2.11.1->tweepy>=3.7.0->konlpy) (1.7.1)\n",
            "Requirement already satisfied: soynlp in /usr/local/lib/python3.7/dist-packages (0.0.493)\n",
            "Requirement already satisfied: psutil>=5.0.1 in /usr/local/lib/python3.7/dist-packages (from soynlp) (5.4.8)\n",
            "Requirement already satisfied: scipy>=1.1.0 in /usr/local/lib/python3.7/dist-packages (from soynlp) (1.4.1)\n",
            "Requirement already satisfied: numpy>=1.12.1 in /usr/local/lib/python3.7/dist-packages (from soynlp) (1.19.5)\n",
            "Requirement already satisfied: scikit-learn>=0.20.0 in /usr/local/lib/python3.7/dist-packages (from soynlp) (1.0.1)\n",
            "Requirement already satisfied: threadpoolctl>=2.0.0 in /usr/local/lib/python3.7/dist-packages (from scikit-learn>=0.20.0->soynlp) (3.0.0)\n",
            "Requirement already satisfied: joblib>=0.11 in /usr/local/lib/python3.7/dist-packages (from scikit-learn>=0.20.0->soynlp) (1.1.0)\n"
          ]
        }
      ],
      "source": [
        "!pip install fasttext\n",
        "!pip install konlpy\n",
        "!pip install soynlp"
      ]
    },
    {
      "cell_type": "markdown",
      "metadata": {
        "id": "EDNTIECT3J4i"
      },
      "source": [
        "# 1. EDA(포괄적인 데이터 탐색)"
      ]
    },
    {
      "cell_type": "code",
      "execution_count": 2,
      "metadata": {
        "id": "-doB4xPaAZHr"
      },
      "outputs": [],
      "source": [
        "# 데이터 분석 라이브러리\n",
        "import numpy as np\n",
        "import pandas as pd\n",
        "\n",
        "# 시각화 라이브러리\n",
        "import matplotlib as mpl\n",
        "import matplotlib.pyplot as plt\n",
        "import seaborn as sns"
      ]
    },
    {
      "cell_type": "code",
      "execution_count": 3,
      "metadata": {
        "id": "kiR6uMQ9EX8M"
      },
      "outputs": [],
      "source": [
        "data = pd.read_excel('/content/drive/MyDrive/Colab Notebooks/kaggle/emotion_data.xlsx')"
      ]
    },
    {
      "cell_type": "code",
      "execution_count": 4,
      "metadata": {
        "colab": {
          "base_uri": "https://localhost:8080/",
          "height": 632
        },
        "id": "Y171RGDbI0xG",
        "outputId": "21262302-3da8-492f-e624-17b10a6d16e2"
      },
      "outputs": [
        {
          "data": {
            "text/html": [
              "<div>\n",
              "<style scoped>\n",
              "    .dataframe tbody tr th:only-of-type {\n",
              "        vertical-align: middle;\n",
              "    }\n",
              "\n",
              "    .dataframe tbody tr th {\n",
              "        vertical-align: top;\n",
              "    }\n",
              "\n",
              "    .dataframe thead th {\n",
              "        text-align: right;\n",
              "    }\n",
              "</style>\n",
              "<table border=\"1\" class=\"dataframe\">\n",
              "  <thead>\n",
              "    <tr style=\"text-align: right;\">\n",
              "      <th></th>\n",
              "      <th>Sentence</th>\n",
              "      <th>Emotion</th>\n",
              "      <th>Unnamed: 2</th>\n",
              "      <th>Unnamed: 3</th>\n",
              "      <th>Unnamed: 4</th>\n",
              "      <th>공포</th>\n",
              "      <th>5468</th>\n",
              "    </tr>\n",
              "  </thead>\n",
              "  <tbody>\n",
              "    <tr>\n",
              "      <th>0</th>\n",
              "      <td>언니 동생으로 부르는게 맞는 일인가요..??</td>\n",
              "      <td>공포</td>\n",
              "      <td>NaN</td>\n",
              "      <td>NaN</td>\n",
              "      <td>NaN</td>\n",
              "      <td>놀람</td>\n",
              "      <td>5898.0</td>\n",
              "    </tr>\n",
              "    <tr>\n",
              "      <th>1</th>\n",
              "      <td>그냥 내 느낌일뿐겠지?</td>\n",
              "      <td>공포</td>\n",
              "      <td>NaN</td>\n",
              "      <td>NaN</td>\n",
              "      <td>NaN</td>\n",
              "      <td>분노</td>\n",
              "      <td>5665.0</td>\n",
              "    </tr>\n",
              "    <tr>\n",
              "      <th>2</th>\n",
              "      <td>아직너무초기라서 그런거죠?</td>\n",
              "      <td>공포</td>\n",
              "      <td>NaN</td>\n",
              "      <td>NaN</td>\n",
              "      <td>NaN</td>\n",
              "      <td>슬픔</td>\n",
              "      <td>5267.0</td>\n",
              "    </tr>\n",
              "    <tr>\n",
              "      <th>3</th>\n",
              "      <td>유치원버스 사고 낫다던데</td>\n",
              "      <td>공포</td>\n",
              "      <td>NaN</td>\n",
              "      <td>NaN</td>\n",
              "      <td>NaN</td>\n",
              "      <td>중립</td>\n",
              "      <td>4830.0</td>\n",
              "    </tr>\n",
              "    <tr>\n",
              "      <th>4</th>\n",
              "      <td>근데 원래이런거맞나요</td>\n",
              "      <td>공포</td>\n",
              "      <td>NaN</td>\n",
              "      <td>NaN</td>\n",
              "      <td>NaN</td>\n",
              "      <td>행복</td>\n",
              "      <td>6037.0</td>\n",
              "    </tr>\n",
              "    <tr>\n",
              "      <th>...</th>\n",
              "      <td>...</td>\n",
              "      <td>...</td>\n",
              "      <td>...</td>\n",
              "      <td>...</td>\n",
              "      <td>...</td>\n",
              "      <td>...</td>\n",
              "      <td>...</td>\n",
              "    </tr>\n",
              "    <tr>\n",
              "      <th>38589</th>\n",
              "      <td>솔직히 예보 제대로 못하는 데 세금이라도 아끼게 그냥 폐지해라..</td>\n",
              "      <td>혐오</td>\n",
              "      <td>NaN</td>\n",
              "      <td>NaN</td>\n",
              "      <td>NaN</td>\n",
              "      <td>NaN</td>\n",
              "      <td>NaN</td>\n",
              "    </tr>\n",
              "    <tr>\n",
              "      <th>38590</th>\n",
              "      <td>재미가 없으니 망하지</td>\n",
              "      <td>혐오</td>\n",
              "      <td>NaN</td>\n",
              "      <td>NaN</td>\n",
              "      <td>NaN</td>\n",
              "      <td>NaN</td>\n",
              "      <td>NaN</td>\n",
              "    </tr>\n",
              "    <tr>\n",
              "      <th>38591</th>\n",
              "      <td>공장 도시락 비우생적임 아르바이트했는데 화장실가성 손도 않씯고 재료 담고 바닥 떨어...</td>\n",
              "      <td>혐오</td>\n",
              "      <td>NaN</td>\n",
              "      <td>NaN</td>\n",
              "      <td>NaN</td>\n",
              "      <td>NaN</td>\n",
              "      <td>NaN</td>\n",
              "    </tr>\n",
              "    <tr>\n",
              "      <th>38592</th>\n",
              "      <td>코딱지 만한 나라에서 지들끼리 피터지게 싸우는 센징 클래스 ㅉㅉㅉ</td>\n",
              "      <td>혐오</td>\n",
              "      <td>NaN</td>\n",
              "      <td>NaN</td>\n",
              "      <td>NaN</td>\n",
              "      <td>NaN</td>\n",
              "      <td>NaN</td>\n",
              "    </tr>\n",
              "    <tr>\n",
              "      <th>38593</th>\n",
              "      <td>와이프도 그렇고 댓글 다 볼텐데 이휘재 좀 하차 하라고 전해주세요</td>\n",
              "      <td>혐오</td>\n",
              "      <td>NaN</td>\n",
              "      <td>NaN</td>\n",
              "      <td>NaN</td>\n",
              "      <td>NaN</td>\n",
              "      <td>NaN</td>\n",
              "    </tr>\n",
              "  </tbody>\n",
              "</table>\n",
              "<p>38594 rows × 7 columns</p>\n",
              "</div>"
            ],
            "text/plain": [
              "                                                Sentence Emotion  ...   공포    5468\n",
              "0                               언니 동생으로 부르는게 맞는 일인가요..??      공포  ...   놀람  5898.0\n",
              "1                                           그냥 내 느낌일뿐겠지?      공포  ...   분노  5665.0\n",
              "2                                         아직너무초기라서 그런거죠?      공포  ...   슬픔  5267.0\n",
              "3                                          유치원버스 사고 낫다던데      공포  ...   중립  4830.0\n",
              "4                                            근데 원래이런거맞나요      공포  ...   행복  6037.0\n",
              "...                                                  ...     ...  ...  ...     ...\n",
              "38589               솔직히 예보 제대로 못하는 데 세금이라도 아끼게 그냥 폐지해라..      혐오  ...  NaN     NaN\n",
              "38590                                        재미가 없으니 망하지      혐오  ...  NaN     NaN\n",
              "38591  공장 도시락 비우생적임 아르바이트했는데 화장실가성 손도 않씯고 재료 담고 바닥 떨어...      혐오  ...  NaN     NaN\n",
              "38592               코딱지 만한 나라에서 지들끼리 피터지게 싸우는 센징 클래스 ㅉㅉㅉ      혐오  ...  NaN     NaN\n",
              "38593               와이프도 그렇고 댓글 다 볼텐데 이휘재 좀 하차 하라고 전해주세요      혐오  ...  NaN     NaN\n",
              "\n",
              "[38594 rows x 7 columns]"
            ]
          },
          "execution_count": 4,
          "metadata": {},
          "output_type": "execute_result"
        }
      ],
      "source": [
        "data"
      ]
    },
    {
      "cell_type": "code",
      "execution_count": 5,
      "metadata": {
        "colab": {
          "base_uri": "https://localhost:8080/"
        },
        "id": "xRwEQwueI6XY",
        "outputId": "ebe638f1-07d8-4e4f-92ca-15786d20f32d"
      },
      "outputs": [
        {
          "name": "stdout",
          "output_type": "stream",
          "text": [
            "<class 'pandas.core.frame.DataFrame'>\n",
            "RangeIndex: 38594 entries, 0 to 38593\n",
            "Data columns (total 7 columns):\n",
            " #   Column      Non-Null Count  Dtype  \n",
            "---  ------      --------------  -----  \n",
            " 0   Sentence    38594 non-null  object \n",
            " 1   Emotion     38594 non-null  object \n",
            " 2   Unnamed: 2  0 non-null      float64\n",
            " 3   Unnamed: 3  0 non-null      float64\n",
            " 4   Unnamed: 4  0 non-null      float64\n",
            " 5   공포          7 non-null      object \n",
            " 6   5468        7 non-null      float64\n",
            "dtypes: float64(4), object(3)\n",
            "memory usage: 2.1+ MB\n"
          ]
        }
      ],
      "source": [
        "data.info()"
      ]
    },
    {
      "cell_type": "code",
      "execution_count": 6,
      "metadata": {
        "colab": {
          "base_uri": "https://localhost:8080/",
          "height": 441
        },
        "id": "RlwBFgw-JBPk",
        "outputId": "72f493ac-6e2d-42ab-c270-93c105d0fa0e"
      },
      "outputs": [
        {
          "data": {
            "text/html": [
              "<div>\n",
              "<style scoped>\n",
              "    .dataframe tbody tr th:only-of-type {\n",
              "        vertical-align: middle;\n",
              "    }\n",
              "\n",
              "    .dataframe tbody tr th {\n",
              "        vertical-align: top;\n",
              "    }\n",
              "\n",
              "    .dataframe thead th {\n",
              "        text-align: right;\n",
              "    }\n",
              "</style>\n",
              "<table border=\"1\" class=\"dataframe\">\n",
              "  <thead>\n",
              "    <tr style=\"text-align: right;\">\n",
              "      <th></th>\n",
              "      <th>Sentence</th>\n",
              "      <th>Emotion</th>\n",
              "    </tr>\n",
              "  </thead>\n",
              "  <tbody>\n",
              "    <tr>\n",
              "      <th>0</th>\n",
              "      <td>언니 동생으로 부르는게 맞는 일인가요..??</td>\n",
              "      <td>공포</td>\n",
              "    </tr>\n",
              "    <tr>\n",
              "      <th>1</th>\n",
              "      <td>그냥 내 느낌일뿐겠지?</td>\n",
              "      <td>공포</td>\n",
              "    </tr>\n",
              "    <tr>\n",
              "      <th>2</th>\n",
              "      <td>아직너무초기라서 그런거죠?</td>\n",
              "      <td>공포</td>\n",
              "    </tr>\n",
              "    <tr>\n",
              "      <th>3</th>\n",
              "      <td>유치원버스 사고 낫다던데</td>\n",
              "      <td>공포</td>\n",
              "    </tr>\n",
              "    <tr>\n",
              "      <th>4</th>\n",
              "      <td>근데 원래이런거맞나요</td>\n",
              "      <td>공포</td>\n",
              "    </tr>\n",
              "    <tr>\n",
              "      <th>...</th>\n",
              "      <td>...</td>\n",
              "      <td>...</td>\n",
              "    </tr>\n",
              "    <tr>\n",
              "      <th>38589</th>\n",
              "      <td>솔직히 예보 제대로 못하는 데 세금이라도 아끼게 그냥 폐지해라..</td>\n",
              "      <td>혐오</td>\n",
              "    </tr>\n",
              "    <tr>\n",
              "      <th>38590</th>\n",
              "      <td>재미가 없으니 망하지</td>\n",
              "      <td>혐오</td>\n",
              "    </tr>\n",
              "    <tr>\n",
              "      <th>38591</th>\n",
              "      <td>공장 도시락 비우생적임 아르바이트했는데 화장실가성 손도 않씯고 재료 담고 바닥 떨어...</td>\n",
              "      <td>혐오</td>\n",
              "    </tr>\n",
              "    <tr>\n",
              "      <th>38592</th>\n",
              "      <td>코딱지 만한 나라에서 지들끼리 피터지게 싸우는 센징 클래스 ㅉㅉㅉ</td>\n",
              "      <td>혐오</td>\n",
              "    </tr>\n",
              "    <tr>\n",
              "      <th>38593</th>\n",
              "      <td>와이프도 그렇고 댓글 다 볼텐데 이휘재 좀 하차 하라고 전해주세요</td>\n",
              "      <td>혐오</td>\n",
              "    </tr>\n",
              "  </tbody>\n",
              "</table>\n",
              "<p>38594 rows × 2 columns</p>\n",
              "</div>"
            ],
            "text/plain": [
              "                                                Sentence Emotion\n",
              "0                               언니 동생으로 부르는게 맞는 일인가요..??      공포\n",
              "1                                           그냥 내 느낌일뿐겠지?      공포\n",
              "2                                         아직너무초기라서 그런거죠?      공포\n",
              "3                                          유치원버스 사고 낫다던데      공포\n",
              "4                                            근데 원래이런거맞나요      공포\n",
              "...                                                  ...     ...\n",
              "38589               솔직히 예보 제대로 못하는 데 세금이라도 아끼게 그냥 폐지해라..      혐오\n",
              "38590                                        재미가 없으니 망하지      혐오\n",
              "38591  공장 도시락 비우생적임 아르바이트했는데 화장실가성 손도 않씯고 재료 담고 바닥 떨어...      혐오\n",
              "38592               코딱지 만한 나라에서 지들끼리 피터지게 싸우는 센징 클래스 ㅉㅉㅉ      혐오\n",
              "38593               와이프도 그렇고 댓글 다 볼텐데 이휘재 좀 하차 하라고 전해주세요      혐오\n",
              "\n",
              "[38594 rows x 2 columns]"
            ]
          },
          "execution_count": 6,
          "metadata": {},
          "output_type": "execute_result"
        }
      ],
      "source": [
        "data.loc[:,:'Emotion']"
      ]
    },
    {
      "cell_type": "code",
      "execution_count": 7,
      "metadata": {
        "id": "BdMsuYxqJbhm"
      },
      "outputs": [],
      "source": [
        "data = data.loc[:,:'Emotion']"
      ]
    },
    {
      "cell_type": "code",
      "execution_count": 8,
      "metadata": {
        "colab": {
          "base_uri": "https://localhost:8080/"
        },
        "id": "mdyfHcbhJzwC",
        "outputId": "b22ae561-f394-411c-a006-d7598fa230b7"
      },
      "outputs": [
        {
          "name": "stdout",
          "output_type": "stream",
          "text": [
            "<class 'pandas.core.frame.DataFrame'>\n",
            "RangeIndex: 38594 entries, 0 to 38593\n",
            "Data columns (total 2 columns):\n",
            " #   Column    Non-Null Count  Dtype \n",
            "---  ------    --------------  ----- \n",
            " 0   Sentence  38594 non-null  object\n",
            " 1   Emotion   38594 non-null  object\n",
            "dtypes: object(2)\n",
            "memory usage: 603.2+ KB\n"
          ]
        }
      ],
      "source": [
        "data.info()"
      ]
    },
    {
      "cell_type": "code",
      "execution_count": 9,
      "metadata": {
        "colab": {
          "base_uri": "https://localhost:8080/",
          "height": 174
        },
        "id": "sLHQb9wlJ2Nz",
        "outputId": "0767aa7d-d738-4e9f-f840-16508596c567"
      },
      "outputs": [
        {
          "data": {
            "text/html": [
              "<div>\n",
              "<style scoped>\n",
              "    .dataframe tbody tr th:only-of-type {\n",
              "        vertical-align: middle;\n",
              "    }\n",
              "\n",
              "    .dataframe tbody tr th {\n",
              "        vertical-align: top;\n",
              "    }\n",
              "\n",
              "    .dataframe thead th {\n",
              "        text-align: right;\n",
              "    }\n",
              "</style>\n",
              "<table border=\"1\" class=\"dataframe\">\n",
              "  <thead>\n",
              "    <tr style=\"text-align: right;\">\n",
              "      <th></th>\n",
              "      <th>Sentence</th>\n",
              "      <th>Emotion</th>\n",
              "    </tr>\n",
              "  </thead>\n",
              "  <tbody>\n",
              "    <tr>\n",
              "      <th>count</th>\n",
              "      <td>38594</td>\n",
              "      <td>38594</td>\n",
              "    </tr>\n",
              "    <tr>\n",
              "      <th>unique</th>\n",
              "      <td>38509</td>\n",
              "      <td>7</td>\n",
              "    </tr>\n",
              "    <tr>\n",
              "      <th>top</th>\n",
              "      <td>감사합니다.</td>\n",
              "      <td>행복</td>\n",
              "    </tr>\n",
              "    <tr>\n",
              "      <th>freq</th>\n",
              "      <td>4</td>\n",
              "      <td>6037</td>\n",
              "    </tr>\n",
              "  </tbody>\n",
              "</table>\n",
              "</div>"
            ],
            "text/plain": [
              "       Sentence Emotion\n",
              "count     38594   38594\n",
              "unique    38509       7\n",
              "top      감사합니다.      행복\n",
              "freq          4    6037"
            ]
          },
          "execution_count": 9,
          "metadata": {},
          "output_type": "execute_result"
        }
      ],
      "source": [
        "data.describe()"
      ]
    },
    {
      "cell_type": "markdown",
      "metadata": {
        "id": "4fwh62ke3cjM"
      },
      "source": [
        "# train, test 데이터 분리\n"
      ]
    },
    {
      "cell_type": "code",
      "execution_count": 10,
      "metadata": {
        "colab": {
          "base_uri": "https://localhost:8080/"
        },
        "id": "_eJ8IK-0MjC8",
        "outputId": "9d7074dd-2276-47e9-e4b5-4e788c33a4d4"
      },
      "outputs": [
        {
          "name": "stdout",
          "output_type": "stream",
          "text": [
            "(28945, 2)\n",
            "(9649, 2)\n"
          ]
        }
      ],
      "source": [
        "from sklearn.model_selection import train_test_split\n",
        "                                                         \n",
        "data_train, data_test = train_test_split(data, test_size=0.25, random_state=0)\n",
        "\n",
        "print(data_train.shape)\n",
        "print(data_test.shape)"
      ]
    },
    {
      "cell_type": "code",
      "execution_count": 11,
      "metadata": {
        "colab": {
          "base_uri": "https://localhost:8080/"
        },
        "id": "2uNw1MJExBuL",
        "outputId": "0d65a41e-d9a9-415d-c4c9-20d6d715b78f"
      },
      "outputs": [
        {
          "name": "stdout",
          "output_type": "stream",
          "text": [
            "                                                Sentence Emotion\n",
            "29186        그냥 멋져유 ~요리할땐 더 멋져유~기부했다고 들었을땐 더더더 멋져부러유~~^^      행복\n",
            "17237             오아시스노래를 하루중 12시간을 듣고있어서귀가너무아퍼요 ㅠㅠㅠㅠㅠㅠ0      슬픔\n",
            "22295                                        다시만나면 안됬던거야      슬픔\n",
            "8161                      근데 단종 시킨다니깐 갑자기 폭발사고가 안일어날까요??      놀람\n",
            "11873  김상수 니는 야구그만둬라 자식아!!그따위 실력으로 프로야구한다고OOO이가!!내가 해...      분노\n",
            "                           Sentence Emotion\n",
            "954     '어이없는 실책' 이라고 아나운서가 예기하더군요.      공포\n",
            "387              대체왜 거기서 그러고 가는거에요?      공포\n",
            "6711            음??? 생각보다 벌금이 약허네??      놀람\n",
            "12505              돈에 양심판 사람들 혐오스럽다      분노\n",
            "5599                우와..있는줄 몰랐다. ㅋㅋ      놀람\n"
          ]
        }
      ],
      "source": [
        "print(data_train.head())\n",
        "print(data_test.head())"
      ]
    },
    {
      "cell_type": "code",
      "execution_count": 12,
      "metadata": {
        "id": "WkJkvyJwwLG0"
      },
      "outputs": [],
      "source": [
        "X_train = data_train.loc[:]['Sentence']\n",
        "y_train = data_train.loc[:]['Emotion']\n",
        "X_test = data_test.loc[:]['Sentence']\n",
        "y_test = data_test.loc[:]['Emotion']"
      ]
    },
    {
      "cell_type": "code",
      "execution_count": 13,
      "metadata": {
        "colab": {
          "base_uri": "https://localhost:8080/"
        },
        "id": "-eFlX1aR20aY",
        "outputId": "3f7c74d0-7d20-4f4c-bf40-84bd41e83aef"
      },
      "outputs": [
        {
          "name": "stdout",
          "output_type": "stream",
          "text": [
            "훈련용 데이터 문장 예시: 언니 동생으로 부르는게 맞는 일인가요..??\n",
            "훈련용 label 예시: 공포\n",
            "테스트 데이터 문장 갯수: 9649\n",
            "테스트 label 갯수: 9649\n"
          ]
        }
      ],
      "source": [
        "print(\"훈련용 데이터 문장 예시:\",X_train[0])\n",
        "print(\"훈련용 label 예시:\",y_train[0])\n",
        "\n",
        "print(\"테스트 데이터 문장 갯수:\",len(X_test))\n",
        "print(\"테스트 label 갯수:\",len(y_test))"
      ]
    },
    {
      "cell_type": "code",
      "execution_count": 14,
      "metadata": {
        "colab": {
          "base_uri": "https://localhost:8080/",
          "height": 586
        },
        "id": "P3RiMTonys3X",
        "outputId": "4f5243d2-b0de-444b-a576-34bdd33f494b"
      },
      "outputs": [
        {
          "name": "stdout",
          "output_type": "stream",
          "text": [
            "문장의 최대 길이 : 299\n",
            "문장의 평균 길이 : 23.71597858006564\n"
          ]
        },
        {
          "data": {
            "image/png": "[encoded data removed]",
            "text/plain": [
              "<Figure size 432x288 with 2 Axes>"
            ]
          },
          "metadata": {
            "needs_background": "light"
          },
          "output_type": "display_data"
        },
        {
          "name": "stdout",
          "output_type": "stream",
          "text": [
            "문장의 최대 길이 : 164\n",
            "문장의 평균 길이 : 23.73416934397347\n"
          ]
        },
        {
          "data": {
            "image/png": "[encoded data removed]",
            "text/plain": [
              "<Figure size 432x288 with 2 Axes>"
            ]
          },
          "metadata": {
            "needs_background": "light"
          },
          "output_type": "display_data"
        }
      ],
      "source": [
        "len_result = [len(s) for s in X_train]\n",
        "print('문장의 최대 길이 : {}'.format(np.max(len_result)))\n",
        "print('문장의 평균 길이 : {}'.format(np.mean(len_result)))\n",
        "\n",
        "plt.subplot(1,2,1)\n",
        "plt.boxplot(len_result)\n",
        "plt.subplot(1,2,2)\n",
        "plt.hist(len_result,bins=30)\n",
        "plt.show()\n",
        "\n",
        "len_result2 = [len(s) for s in X_test]\n",
        "print('문장의 최대 길이 : {}'.format(np.max(len_result2)))\n",
        "print('문장의 평균 길이 : {}'.format(np.mean(len_result2)))\n",
        "\n",
        "plt.subplot(1,2,1)\n",
        "plt.boxplot(len_result2)\n",
        "plt.subplot(1,2,2)\n",
        "plt.hist(len_result2,bins=30)\n",
        "plt.show()"
      ]
    },
    {
      "cell_type": "code",
      "execution_count": 15,
      "metadata": {
        "colab": {
          "base_uri": "https://localhost:8080/"
        },
        "id": "Bds0qXHc0TNi",
        "outputId": "9d62b59a-e881-4097-e4d2-51d41ef5d1e9"
      },
      "outputs": [
        {
          "name": "stdout",
          "output_type": "stream",
          "text": [
            "훈련용데이터의 레이블에 대한 빈도수:\n",
            "[['공포' '놀람' '분노' '슬픔' '중립' '행복' '혐오']\n",
            " [4097 4423 4280 3938 3624 4509 4074]]\n"
          ]
        }
      ],
      "source": [
        "unique_elements, counts_elements = np.unique(y_train, return_counts=True)\n",
        "print(\"훈련용데이터의 레이블에 대한 빈도수:\")\n",
        "print(np.asarray((unique_elements, counts_elements)))"
      ]
    },
    {
      "cell_type": "markdown",
      "metadata": {
        "id": "Cqx_76yxR39L"
      },
      "source": [
        "## Pre-trained Fasttext 한국어 모델"
      ]
    },
    {
      "cell_type": "markdown",
      "metadata": {
        "id": "oR8oVJh82d6K"
      },
      "source": []
    },
    {
      "cell_type": "code",
      "execution_count": null,
      "metadata": {
        "id": "XmZm0tSnR3Rd"
      },
      "outputs": [],
      "source": [
        "import fasttext\n",
        "pretrained_model=fasttext.FastText.load_model('/content/drive/MyDrive/Colab Notebooks/kaggle/cc.ko.300.bin')\n",
        "# ko_model = models.fasttext.load_facebook_model('cc.ko.300.bin.gz')\n",
        "pretrained_model.get_dimension()"
      ]
    },
    {
      "cell_type": "code",
      "execution_count": null,
      "metadata": {
        "id": "G-z6CRBF0vgC"
      },
      "outputs": [],
      "source": [
        "pretrained_model.get_nearest_neighbors('파이썬')"
      ]
    },
    {
      "cell_type": "code",
      "execution_count": null,
      "metadata": {
        "id": "ODnRi2S14Qap"
      },
      "outputs": [],
      "source": [
        "len(pretrained_model['한국인'])"
      ]
    },
    {
      "cell_type": "code",
      "execution_count": null,
      "metadata": {
        "id": "eTFDFYWE1GiQ"
      },
      "outputs": [],
      "source": [
        "import fasttext.util"
      ]
    },
    {
      "cell_type": "code",
      "execution_count": null,
      "metadata": {
        "id": "2TNxnV1P1J9H"
      },
      "outputs": [],
      "source": [
        "fasttext.util.reduce_model(pretrained_model, 100)"
      ]
    },
    {
      "cell_type": "markdown",
      "metadata": {
        "id": "3zT5CL4QTdQl"
      },
      "source": [
        "## okt사용하여 토큰화 & soynlp사용하여 반복되는 문자 정제"
      ]
    },
    {
      "cell_type": "code",
      "execution_count": 16,
      "metadata": {
        "id": "HAyzLW8x4b9o"
      },
      "outputs": [],
      "source": [
        "from konlpy.tag import Okt\n",
        "from soynlp.normalizer import *\n",
        "okt = Okt()"
      ]
    },
    {
      "cell_type": "code",
      "execution_count": 17,
      "metadata": {
        "colab": {
          "base_uri": "https://localhost:8080/"
        },
        "id": "bvhXFMUG4cFi",
        "outputId": "d404b526-42f2-47a5-a457-717da66b284c"
      },
      "outputs": [
        {
          "name": "stdout",
          "output_type": "stream",
          "text": [
            "['그냥', '내', '느낌', '일', '뿐', '겠지', '?']\n",
            "ㅈ겜 핵관리도 못하더니 서버관리도 못하냐? ㅋㅋㅋ\n",
            "[('ㅈ', 'KoreanParticle'), ('겜', 'Noun'), ('핵', 'Noun'), ('관리', 'Noun'), ('도', 'Josa'), ('못', 'VerbPrefix'), ('하더니', 'Verb'), ('서버', 'Noun'), ('관리', 'Noun'), ('도', 'Josa'), ('못', 'VerbPrefix'), ('하냐', 'Verb'), ('?', 'Punctuation'), ('ㅋㅋㅋ', 'KoreanParticle')]\n"
          ]
        }
      ],
      "source": [
        "#test shell\n",
        "print(okt.morphs(data.loc[1,'Sentence'])) #okt 테스트\n",
        "\n",
        "\n",
        "print(emoticon_normalize('ㅈ망겜 핵관리도 못하더니 서버관리도 못하냐? ㅋㅋㅋㅋㅋㅋㅋㅋㅋㅋㅋㅋㅋㅋㅋㅋ', num_repeats=3)) #soynlp 테스트\n",
        "print(okt.pos(emoticon_normalize('ㅈ망겜 핵관리도 못하더니 서버관리도 못하냐? ㅋㅋㅋㅋㅋㅋㅋㅋㅋㅋㅋㅋㅋㅋㅋㅋ', num_repeats=3))) #soynlp 테스트"
      ]
    },
    {
      "cell_type": "code",
      "execution_count": 18,
      "metadata": {
        "id": "Pelm4H7V4Qhd"
      },
      "outputs": [],
      "source": [
        "X_train_tokenize = []\n",
        "for i in X_train:\n",
        "  X_train_tokenize.append(okt.morphs(emoticon_normalize(i, num_repeats=3), stem=True)) #norm옵션 : 그래욬ㅋㅋ -> 그래요 처럼 변환해주는 옵션 / stem옵션 : 원형을 찾아주는 옵션 (그래요 -> 그렇다)"
      ]
    },
    {
      "cell_type": "code",
      "execution_count": 19,
      "metadata": {
        "colab": {
          "base_uri": "https://localhost:8080/"
        },
        "id": "ua793ESYNLZW",
        "outputId": "2824c396-fd76-4315-eb01-d7b9d3cfef48"
      },
      "outputs": [
        {
          "name": "stdout",
          "output_type": "stream",
          "text": [
            "['그냥', '멋지다', '유', '~', '요리', '하다', '땐', '더', '멋지다', '유', '~', '기부', '하다', '들다', '땐', '더더', '더', '멋지다', '부러', '유', '~~^^']\n",
            "['오아시스', '노래', '를', '하루', '중', '12시간', '을', '듣다', '귀가', '너무', '아프다', 'ㅠㅠㅠ', '0']\n"
          ]
        }
      ],
      "source": [
        "for i in X_train_tokenize[:2]:\n",
        "  print(i)"
      ]
    },
    {
      "cell_type": "code",
      "execution_count": 20,
      "metadata": {
        "colab": {
          "base_uri": "https://localhost:8080/"
        },
        "id": "Upcl2C6oC3QJ",
        "outputId": "3a240506-a8de-4d2a-c367-8b00167402d0"
      },
      "outputs": [
        {
          "name": "stdout",
          "output_type": "stream",
          "text": [
            "['그냥', '멋지다', '유', '~', '요리', '하다', '땐', '더', '멋지다', '유', '~', '기부', '하다', '들다', '땐', '더더', '더', '멋지다', '부러', '유', '~~^^'] : 21\n",
            "['오아시스', '노래', '를', '하루', '중', '12시간', '을', '듣다', '귀가', '너무', '아프다', 'ㅠㅠㅠ', '0'] : 13\n",
            "['다시', '만나다', '안되다'] : 3\n",
            "[('그냥', 'Noun'), ('멋지다', 'Adjective'), ('유', 'Noun'), ('~', 'Punctuation'), ('요리', 'Noun'), ('하다', 'Verb'), ('땐', 'Noun'), ('더', 'Noun'), ('멋지다', 'Adjective'), ('유', 'Noun'), ('~', 'Punctuation'), ('기부', 'Noun'), ('하다', 'Verb'), ('들다', 'Verb'), ('땐', 'Noun'), ('더더', 'Noun'), ('더', 'Noun'), ('멋지다', 'Adjective'), ('부러', 'Noun'), ('유', 'Noun'), ('~~^^', 'Punctuation')]\n",
            "[('오아시스', 'Noun'), ('노래', 'Noun'), ('를', 'Josa'), ('하루', 'Noun'), ('중', 'Suffix'), ('12시간', 'Number'), ('을', 'Foreign'), ('듣다', 'Verb'), ('귀가', 'Noun'), ('너무', 'Adverb'), ('아프다', 'Adjective'), ('ㅠㅠㅠ', 'KoreanParticle'), ('0', 'Number')]\n",
            "[('다시', 'Noun'), ('만나다', 'Verb'), ('안되다', 'Adjective')]\n"
          ]
        }
      ],
      "source": [
        "train_len = [len(s) for s in X_train_tokenize]\n",
        "for i in range(3):\n",
        "  print(X_train_tokenize[i] ,\":\" ,train_len[i])\n",
        "\n",
        "for i in X_train[:3]:\n",
        "  print(okt.pos(emoticon_normalize(i, num_repeats=3), stem=True))"
      ]
    },
    {
      "cell_type": "code",
      "execution_count": 21,
      "metadata": {
        "colab": {
          "base_uri": "https://localhost:8080/",
          "height": 302
        },
        "id": "qVn5Vk0QGncy",
        "outputId": "f347ac58-f867-4d82-cad9-856be3c5a91a"
      },
      "outputs": [
        {
          "name": "stdout",
          "output_type": "stream",
          "text": [
            "토큰화된 문장의 최대 토큰의 갯수 : 113\n",
            "토큰화된 문장의 평균 토큰의 갯수 : 9.5648643979962\n"
          ]
        },
        {
          "data": {
            "image/png": "[encoded data removed]",
            "text/plain": [
              "<Figure size 432x288 with 2 Axes>"
            ]
          },
          "metadata": {
            "needs_background": "light"
          },
          "output_type": "display_data"
        }
      ],
      "source": [
        "print('토큰화된 문장의 최대 토큰의 갯수 : {}'.format(np.max(train_len)))\n",
        "print('토큰화된 문장의 평균 토큰의 갯수 : {}'.format(np.mean(train_len)))\n",
        "plt.subplot(1,2,1)\n",
        "plt.boxplot(train_len)\n",
        "plt.subplot(1,2,2)\n",
        "plt.hist(train_len,bins=30)\n",
        "plt.show()"
      ]
    },
    {
      "cell_type": "markdown",
      "metadata": {
        "id": "zUeI2431-qCL"
      },
      "source": [
        "## LSTM 적용"
      ]
    },
    {
      "cell_type": "code",
      "execution_count": 22,
      "metadata": {
        "id": "1N5evBhtOn0n"
      },
      "outputs": [],
      "source": [
        "from tensorflow.keras.layers import SimpleRNN, Embedding, Dense\n",
        "from tensorflow.keras.models import Sequential\n"
      ]
    },
    {
      "cell_type": "code",
      "execution_count": null,
      "metadata": {
        "id": "lksWUKkB_80A"
      },
      "outputs": [],
      "source": [
        "model = keras.Sequential()\n",
        "model.add(layers.LSTM)"
      ]
    }
  ],
  "metadata": {
    "accelerator": "GPU",
    "colab": {
      "collapsed_sections": [],
      "name": "emotion_analysis.ipynb",
      "provenance": []
    },
    "kernelspec": {
      "display_name": "Python 3",
      "name": "python3"
    },
    "language_info": {
      "name": "python"
    }
  },
  "nbformat": 4,
  "nbformat_minor": 0
}
