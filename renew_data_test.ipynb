{
 "cells": [
  {
   "cell_type": "code",
   "execution_count": 22,
   "metadata": {
    "colab": {
     "base_uri": "https://localhost:8080/"
    },
    "id": "D5SABt_bEXXw",
    "outputId": "8e3c7c93-742d-4153-c198-fc00072e4b99"
   },
   "outputs": [],
   "source": [
    "# !pip install fasttext\n",
    "# !pip install konlpy\n",
    "# # !pip install soynlp"
   ]
  },
  {
   "cell_type": "code",
   "execution_count": 23,
   "metadata": {},
   "outputs": [],
   "source": [
    "# !pip install pandas"
   ]
  },
  {
   "cell_type": "markdown",
   "metadata": {
    "id": "EDNTIECT3J4i"
   },
   "source": [
    "# 1. EDA(포괄적인 데이터 탐색)"
   ]
  },
  {
   "cell_type": "code",
   "execution_count": 24,
   "metadata": {
    "id": "-doB4xPaAZHr"
   },
   "outputs": [],
   "source": [
    "# 데이터 분석 라이브러리\n",
    "import numpy as np\n",
    "import pandas as pd\n",
    "\n",
    "# 시각화 라이브러리\n",
    "import matplotlib as mpl\n",
    "import matplotlib.pyplot as plt"
   ]
  },
  {
   "cell_type": "code",
   "execution_count": 25,
   "metadata": {
    "id": "kiR6uMQ9EX8M"
   },
   "outputs": [],
   "source": [
    "data = pd.read_excel('./neutral_rm_emotion_data.xlsx')"
   ]
  },
  {
   "cell_type": "code",
   "execution_count": 26,
   "metadata": {
    "colab": {
     "base_uri": "https://localhost:8080/",
     "height": 528
    },
    "id": "Y171RGDbI0xG",
    "outputId": "e38bab14-159a-408f-ebd5-0c61fad5dc9f"
   },
   "outputs": [
    {
     "data": {
      "text/html": [
       "<div>\n",
       "<style scoped>\n",
       "    .dataframe tbody tr th:only-of-type {\n",
       "        vertical-align: middle;\n",
       "    }\n",
       "\n",
       "    .dataframe tbody tr th {\n",
       "        vertical-align: top;\n",
       "    }\n",
       "\n",
       "    .dataframe thead th {\n",
       "        text-align: right;\n",
       "    }\n",
       "</style>\n",
       "<table border=\"1\" class=\"dataframe\">\n",
       "  <thead>\n",
       "    <tr style=\"text-align: right;\">\n",
       "      <th></th>\n",
       "      <th>Sentence</th>\n",
       "      <th>Emotion</th>\n",
       "      <th>Unnamed: 2</th>\n",
       "      <th>Unnamed: 3</th>\n",
       "      <th>Unnamed: 4</th>\n",
       "      <th>공포</th>\n",
       "      <th>6935</th>\n",
       "    </tr>\n",
       "  </thead>\n",
       "  <tbody>\n",
       "    <tr>\n",
       "      <th>0</th>\n",
       "      <td>언니 동생으로 부르는게 맞는 일인가요..??</td>\n",
       "      <td>공포</td>\n",
       "      <td>NaN</td>\n",
       "      <td>NaN</td>\n",
       "      <td>NaN</td>\n",
       "      <td>놀람</td>\n",
       "      <td>12521</td>\n",
       "    </tr>\n",
       "    <tr>\n",
       "      <th>1</th>\n",
       "      <td>그냥 내 느낌일뿐겠지?</td>\n",
       "      <td>공포</td>\n",
       "      <td>NaN</td>\n",
       "      <td>NaN</td>\n",
       "      <td>NaN</td>\n",
       "      <td>분노</td>\n",
       "      <td>12566</td>\n",
       "    </tr>\n",
       "    <tr>\n",
       "      <th>2</th>\n",
       "      <td>아직너무초기라서 그런거죠?</td>\n",
       "      <td>공포</td>\n",
       "      <td>NaN</td>\n",
       "      <td>NaN</td>\n",
       "      <td>NaN</td>\n",
       "      <td>슬픔</td>\n",
       "      <td>10090</td>\n",
       "    </tr>\n",
       "    <tr>\n",
       "      <th>3</th>\n",
       "      <td>유치원버스 사고 낫다던데</td>\n",
       "      <td>공포</td>\n",
       "      <td>NaN</td>\n",
       "      <td>NaN</td>\n",
       "      <td>NaN</td>\n",
       "      <td>중립</td>\n",
       "      <td>11107</td>\n",
       "    </tr>\n",
       "    <tr>\n",
       "      <th>4</th>\n",
       "      <td>근데 원래이런거맞나요</td>\n",
       "      <td>공포</td>\n",
       "      <td>NaN</td>\n",
       "      <td>NaN</td>\n",
       "      <td>NaN</td>\n",
       "      <td>행복</td>\n",
       "      <td>11617</td>\n",
       "    </tr>\n",
       "    <tr>\n",
       "      <th>...</th>\n",
       "      <td>...</td>\n",
       "      <td>...</td>\n",
       "      <td>...</td>\n",
       "      <td>...</td>\n",
       "      <td>...</td>\n",
       "      <td>...</td>\n",
       "      <td>...</td>\n",
       "    </tr>\n",
       "    <tr>\n",
       "      <th>72803</th>\n",
       "      <td>나 엘리베이터에 갇혔어.</td>\n",
       "      <td>공포</td>\n",
       "      <td>NaN</td>\n",
       "      <td>NaN</td>\n",
       "      <td>NaN</td>\n",
       "      <td>NaN</td>\n",
       "      <td>NaN</td>\n",
       "    </tr>\n",
       "    <tr>\n",
       "      <th>72804</th>\n",
       "      <td>하지만 기분이 나쁜 걸 어떡해?</td>\n",
       "      <td>분노</td>\n",
       "      <td>NaN</td>\n",
       "      <td>NaN</td>\n",
       "      <td>NaN</td>\n",
       "      <td>NaN</td>\n",
       "      <td>NaN</td>\n",
       "    </tr>\n",
       "    <tr>\n",
       "      <th>72805</th>\n",
       "      <td>자취방 엘리베이턴데 정전인가봐.</td>\n",
       "      <td>공포</td>\n",
       "      <td>NaN</td>\n",
       "      <td>NaN</td>\n",
       "      <td>NaN</td>\n",
       "      <td>NaN</td>\n",
       "      <td>NaN</td>\n",
       "    </tr>\n",
       "    <tr>\n",
       "      <th>72806</th>\n",
       "      <td>나 드디어 프로젝트 끝났어!</td>\n",
       "      <td>행복</td>\n",
       "      <td>NaN</td>\n",
       "      <td>NaN</td>\n",
       "      <td>NaN</td>\n",
       "      <td>NaN</td>\n",
       "      <td>NaN</td>\n",
       "    </tr>\n",
       "    <tr>\n",
       "      <th>72807</th>\n",
       "      <td>걱정해줘서 고마워.</td>\n",
       "      <td>혐오</td>\n",
       "      <td>NaN</td>\n",
       "      <td>NaN</td>\n",
       "      <td>NaN</td>\n",
       "      <td>NaN</td>\n",
       "      <td>NaN</td>\n",
       "    </tr>\n",
       "  </tbody>\n",
       "</table>\n",
       "<p>72808 rows × 7 columns</p>\n",
       "</div>"
      ],
      "text/plain": [
       "                       Sentence Emotion  Unnamed: 2  Unnamed: 3 Unnamed: 4  \\\n",
       "0      언니 동생으로 부르는게 맞는 일인가요..??      공포         NaN         NaN        NaN   \n",
       "1                  그냥 내 느낌일뿐겠지?      공포         NaN         NaN        NaN   \n",
       "2                아직너무초기라서 그런거죠?      공포         NaN         NaN        NaN   \n",
       "3                 유치원버스 사고 낫다던데      공포         NaN         NaN        NaN   \n",
       "4                   근데 원래이런거맞나요      공포         NaN         NaN        NaN   \n",
       "...                         ...     ...         ...         ...        ...   \n",
       "72803             나 엘리베이터에 갇혔어.      공포         NaN         NaN        NaN   \n",
       "72804         하지만 기분이 나쁜 걸 어떡해?      분노         NaN         NaN        NaN   \n",
       "72805         자취방 엘리베이턴데 정전인가봐.      공포         NaN         NaN        NaN   \n",
       "72806           나 드디어 프로젝트 끝났어!      행복         NaN         NaN        NaN   \n",
       "72807                걱정해줘서 고마워.      혐오         NaN         NaN        NaN   \n",
       "\n",
       "        공포   6935  \n",
       "0       놀람  12521  \n",
       "1       분노  12566  \n",
       "2       슬픔  10090  \n",
       "3       중립  11107  \n",
       "4       행복  11617  \n",
       "...    ...    ...  \n",
       "72803  NaN    NaN  \n",
       "72804  NaN    NaN  \n",
       "72805  NaN    NaN  \n",
       "72806  NaN    NaN  \n",
       "72807  NaN    NaN  \n",
       "\n",
       "[72808 rows x 7 columns]"
      ]
     },
     "execution_count": 26,
     "metadata": {},
     "output_type": "execute_result"
    }
   ],
   "source": [
    "data"
   ]
  },
  {
   "cell_type": "code",
   "execution_count": 27,
   "metadata": {
    "id": "gTpOag3CInMD"
   },
   "outputs": [],
   "source": [
    "data = data.loc[:,:'Emotion']"
   ]
  },
  {
   "cell_type": "code",
   "execution_count": 28,
   "metadata": {},
   "outputs": [
    {
     "data": {
      "text/html": [
       "<div>\n",
       "<style scoped>\n",
       "    .dataframe tbody tr th:only-of-type {\n",
       "        vertical-align: middle;\n",
       "    }\n",
       "\n",
       "    .dataframe tbody tr th {\n",
       "        vertical-align: top;\n",
       "    }\n",
       "\n",
       "    .dataframe thead th {\n",
       "        text-align: right;\n",
       "    }\n",
       "</style>\n",
       "<table border=\"1\" class=\"dataframe\">\n",
       "  <thead>\n",
       "    <tr style=\"text-align: right;\">\n",
       "      <th></th>\n",
       "      <th>Sentence</th>\n",
       "      <th>Emotion</th>\n",
       "    </tr>\n",
       "  </thead>\n",
       "  <tbody>\n",
       "    <tr>\n",
       "      <th>0</th>\n",
       "      <td>언니 동생으로 부르는게 맞는 일인가요..??</td>\n",
       "      <td>공포</td>\n",
       "    </tr>\n",
       "    <tr>\n",
       "      <th>1</th>\n",
       "      <td>그냥 내 느낌일뿐겠지?</td>\n",
       "      <td>공포</td>\n",
       "    </tr>\n",
       "    <tr>\n",
       "      <th>2</th>\n",
       "      <td>아직너무초기라서 그런거죠?</td>\n",
       "      <td>공포</td>\n",
       "    </tr>\n",
       "    <tr>\n",
       "      <th>3</th>\n",
       "      <td>유치원버스 사고 낫다던데</td>\n",
       "      <td>공포</td>\n",
       "    </tr>\n",
       "    <tr>\n",
       "      <th>4</th>\n",
       "      <td>근데 원래이런거맞나요</td>\n",
       "      <td>공포</td>\n",
       "    </tr>\n",
       "    <tr>\n",
       "      <th>...</th>\n",
       "      <td>...</td>\n",
       "      <td>...</td>\n",
       "    </tr>\n",
       "    <tr>\n",
       "      <th>72803</th>\n",
       "      <td>나 엘리베이터에 갇혔어.</td>\n",
       "      <td>공포</td>\n",
       "    </tr>\n",
       "    <tr>\n",
       "      <th>72804</th>\n",
       "      <td>하지만 기분이 나쁜 걸 어떡해?</td>\n",
       "      <td>분노</td>\n",
       "    </tr>\n",
       "    <tr>\n",
       "      <th>72805</th>\n",
       "      <td>자취방 엘리베이턴데 정전인가봐.</td>\n",
       "      <td>공포</td>\n",
       "    </tr>\n",
       "    <tr>\n",
       "      <th>72806</th>\n",
       "      <td>나 드디어 프로젝트 끝났어!</td>\n",
       "      <td>행복</td>\n",
       "    </tr>\n",
       "    <tr>\n",
       "      <th>72807</th>\n",
       "      <td>걱정해줘서 고마워.</td>\n",
       "      <td>혐오</td>\n",
       "    </tr>\n",
       "  </tbody>\n",
       "</table>\n",
       "<p>72808 rows × 2 columns</p>\n",
       "</div>"
      ],
      "text/plain": [
       "                       Sentence Emotion\n",
       "0      언니 동생으로 부르는게 맞는 일인가요..??      공포\n",
       "1                  그냥 내 느낌일뿐겠지?      공포\n",
       "2                아직너무초기라서 그런거죠?      공포\n",
       "3                 유치원버스 사고 낫다던데      공포\n",
       "4                   근데 원래이런거맞나요      공포\n",
       "...                         ...     ...\n",
       "72803             나 엘리베이터에 갇혔어.      공포\n",
       "72804         하지만 기분이 나쁜 걸 어떡해?      분노\n",
       "72805         자취방 엘리베이턴데 정전인가봐.      공포\n",
       "72806           나 드디어 프로젝트 끝났어!      행복\n",
       "72807                걱정해줘서 고마워.      혐오\n",
       "\n",
       "[72808 rows x 2 columns]"
      ]
     },
     "execution_count": 28,
     "metadata": {},
     "output_type": "execute_result"
    }
   ],
   "source": [
    "data"
   ]
  },
  {
   "cell_type": "code",
   "execution_count": 29,
   "metadata": {
    "colab": {
     "base_uri": "https://localhost:8080/"
    },
    "id": "GRkUluANJ6is",
    "outputId": "43f66698-fa2c-4fe7-bd33-a6632ba68116"
   },
   "outputs": [
    {
     "name": "stdout",
     "output_type": "stream",
     "text": [
      "['공포' '슬픔' '분노' '놀람' '중립' '행복' '혐오']\n"
     ]
    }
   ],
   "source": [
    "categories = data['Emotion'].unique()\n",
    "print(categories)"
   ]
  },
  {
   "cell_type": "code",
   "execution_count": 30,
   "metadata": {
    "colab": {
     "base_uri": "https://localhost:8080/"
    },
    "id": "r89QMrAJKmQq",
    "outputId": "da7e8418-e8aa-4e48-83c6-2b08151882ed"
   },
   "outputs": [
    {
     "data": {
      "text/plain": [
       "분노    12566\n",
       "놀람    12521\n",
       "행복    11617\n",
       "중립    11107\n",
       "슬픔    10090\n",
       "혐오     7972\n",
       "공포     6935\n",
       "Name: Emotion, dtype: int64"
      ]
     },
     "execution_count": 30,
     "metadata": {},
     "output_type": "execute_result"
    }
   ],
   "source": [
    "data['Emotion'].value_counts()"
   ]
  },
  {
   "cell_type": "markdown",
   "metadata": {
    "id": "IR17YLFwI6Zy"
   },
   "source": [
    "# 2. 데이터 분리와 EDA\n",
    "\n"
   ]
  },
  {
   "cell_type": "code",
   "execution_count": 31,
   "metadata": {
    "colab": {
     "base_uri": "https://localhost:8080/"
    },
    "id": "_eJ8IK-0MjC8",
    "outputId": "ad928b50-99e7-4e71-ebb5-b2a48a9609ae"
   },
   "outputs": [
    {
     "name": "stdout",
     "output_type": "stream",
     "text": [
      "(50965, 2)\n",
      "(10921, 2)\n",
      "(10922, 2)\n"
     ]
    }
   ],
   "source": [
    "from sklearn.model_selection import train_test_split\n",
    "                                                         \n",
    "data_train, data_test = train_test_split(data, test_size=0.3, shuffle=True)\n",
    "data_test, data_validation = train_test_split(data_test, test_size=0.5, shuffle=True)\n",
    "\n",
    "print(data_train.shape)\n",
    "print(data_test.shape)\n",
    "print(data_validation.shape)"
   ]
  },
  {
   "cell_type": "code",
   "execution_count": 32,
   "metadata": {
    "colab": {
     "base_uri": "https://localhost:8080/"
    },
    "id": "2uNw1MJExBuL",
    "outputId": "ac35f3a0-bde6-4ea4-fcc1-932f20b4bab8"
   },
   "outputs": [
    {
     "name": "stdout",
     "output_type": "stream",
     "text": [
      "                                   Sentence Emotion\n",
      "15938                            참 개같은 논리다.      분노\n",
      "29497                       머한사람들은 배워먹은게없다.      혐오\n",
      "10549                   이게 팩트라면 애플 휴대폰 사야겠다      놀람\n",
      "64161  시간이 지나도 주식이 오르지 않고 떨어져서 너무 속상해. 망했어.      슬픔\n",
      "67571            아마 뭐 목줄을 다시 사야될 때가 온 거였겠지.      놀람\n",
      "                           Sentence Emotion\n",
      "7128            이강인 아니라는데 왜 저게 베댓이냐      놀람\n",
      "53796      넌 진짜 좀 자. 장은 내가 나중에 봐올게.      중립\n",
      "7904             저 선수가 저 발로도 골을 넣네요      놀람\n",
      "1691   다이어트 할 때 굶으면 몸이 많이 상할 거 같아서요      공포\n",
      "72614          친구 추천을 받고 친구 따라서 샀어.      슬픔\n",
      "                                  Sentence Emotion\n",
      "33345                       설현을 까는건 당연한 거임      혐오\n",
      "5837                 마동석 결혼한 줄 알았는데 총각이었네.      놀람\n",
      "42317                            나 시인이야!!!      분노\n",
      "6760   헐 ㅠㅠㅠ 드디어 공중파 예능이노 퓨 ㅠㅠㅜㅜㅜㅜㅜㅠㅠㅠㅠㅠㅠㅠ      놀람\n",
      "23800    : 병규형이 승여비를누르고 올스타 최다득표의 영예를안았습니다      행복\n"
     ]
    }
   ],
   "source": [
    "print(data_train.head())\n",
    "print(data_test.head())\n",
    "print(data_validation.head())"
   ]
  },
  {
   "cell_type": "code",
   "execution_count": 33,
   "metadata": {
    "id": "WkJkvyJwwLG0"
   },
   "outputs": [],
   "source": [
    "X_train = data_train.loc[:]['Sentence']\n",
    "y_train = data_train.loc[:]['Emotion']\n",
    "\n",
    "X_test = data_test.loc[:]['Sentence']\n",
    "y_test = data_test.loc[:]['Emotion']\n",
    "\n",
    "X_validation = data_validation.loc[:]['Sentence']\n",
    "y_validation = data_validation.loc[:]['Emotion']"
   ]
  },
  {
   "cell_type": "code",
   "execution_count": 34,
   "metadata": {
    "scrolled": true
   },
   "outputs": [
    {
     "data": {
      "text/plain": [
       "'아직너무초기라서 그런거죠?'"
      ]
     },
     "execution_count": 34,
     "metadata": {},
     "output_type": "execute_result"
    }
   ],
   "source": [
    "X_train[2]"
   ]
  },
  {
   "cell_type": "code",
   "execution_count": 35,
   "metadata": {
    "colab": {
     "base_uri": "https://localhost:8080/"
    },
    "id": "-eFlX1aR20aY",
    "outputId": "cfcbf401-3a42-490c-f698-17551aa0f706"
   },
   "outputs": [
    {
     "name": "stdout",
     "output_type": "stream",
     "text": [
      "훈련용 데이터 문장 예시: 아직너무초기라서 그런거죠?\n",
      "훈련용 label 예시: 공포\n",
      "테스트 데이터 문장 갯수: 10921\n",
      "테스트 label 갯수: 10921\n"
     ]
    }
   ],
   "source": [
    "print(\"훈련용 데이터 문장 예시:\",X_train[2])\n",
    "print(\"훈련용 label 예시:\",y_train[2])\n",
    "\n",
    "print(\"테스트 데이터 문장 갯수:\",len(X_test))\n",
    "print(\"테스트 label 갯수:\",len(y_test))"
   ]
  },
  {
   "cell_type": "code",
   "execution_count": 36,
   "metadata": {
    "colab": {
     "base_uri": "https://localhost:8080/",
     "height": 586
    },
    "id": "P3RiMTonys3X",
    "outputId": "2e633688-a8af-499a-dc1d-1d791cbefad1"
   },
   "outputs": [
    {
     "name": "stdout",
     "output_type": "stream",
     "text": [
      "훈련용 문장의 최대 길이 : 299\n",
      "훈련용 문장의 평균 길이 : 24.0779750809379\n"
     ]
    },
    {
     "data": {
      "image/png": "[encoded data removed]",
      "text/plain": [
       "<Figure size 640x480 with 2 Axes>"
      ]
     },
     "metadata": {},
     "output_type": "display_data"
    },
    {
     "name": "stdout",
     "output_type": "stream",
     "text": [
      "테스트 문장의 최대 길이 : 200\n",
      "테스트 문장의 평균 길이 : 24.25748557824375\n"
     ]
    },
    {
     "data": {
      "image/png": "[encoded data removed]",
      "text/plain": [
       "<Figure size 640x480 with 2 Axes>"
      ]
     },
     "metadata": {},
     "output_type": "display_data"
    }
   ],
   "source": [
    "len_result = [len(s) for s in X_train]\n",
    "print('훈련용 문장의 최대 길이 : {}'.format(np.max(len_result)))\n",
    "print('훈련용 문장의 평균 길이 : {}'.format(np.mean(len_result)))\n",
    "\n",
    "plt.subplot(1,2,1)\n",
    "plt.boxplot(len_result)\n",
    "plt.subplot(1,2,2)\n",
    "plt.hist(len_result,bins=30)\n",
    "plt.show()\n",
    "\n",
    "len_result2 = [len(s) for s in X_test]\n",
    "print('테스트 문장의 최대 길이 : {}'.format(np.max(len_result2)))\n",
    "print('테스트 문장의 평균 길이 : {}'.format(np.mean(len_result2)))\n",
    "\n",
    "plt.subplot(1,2,1)\n",
    "plt.boxplot(len_result2)\n",
    "plt.subplot(1,2,2)\n",
    "plt.hist(len_result2,bins=30)\n",
    "plt.show()"
   ]
  },
  {
   "cell_type": "code",
   "execution_count": 37,
   "metadata": {
    "colab": {
     "base_uri": "https://localhost:8080/"
    },
    "id": "Bds0qXHc0TNi",
    "outputId": "cf79324a-152c-46ce-c7d4-b1c0be752992"
   },
   "outputs": [
    {
     "name": "stdout",
     "output_type": "stream",
     "text": [
      "훈련용 데이터 레이블에 대한 빈도:\n",
      "[['공포' '놀람' '분노' '슬픔' '중립' '행복' '혐오']\n",
      " [4885 8795 8794 7014 7762 8159 5556]]\n"
     ]
    }
   ],
   "source": [
    "unique_elements, counts_elements = np.unique(y_train, return_counts=True)\n",
    "print(\"훈련용 데이터 레이블에 대한 빈도:\")\n",
    "print(np.asarray((unique_elements, counts_elements)))"
   ]
  },
  {
   "cell_type": "code",
   "execution_count": 38,
   "metadata": {},
   "outputs": [
    {
     "name": "stdout",
     "output_type": "stream",
     "text": [
      "3.10.0\n"
     ]
    }
   ],
   "source": [
    "import tweepy \n",
    "# !pip freeze > requirements.txt\n",
    "# !pip install tweepy==3.10.0\n",
    "print(tweepy.__version__)"
   ]
  },
  {
   "cell_type": "code",
   "execution_count": 39,
   "metadata": {},
   "outputs": [],
   "source": [
    "# pip list"
   ]
  },
  {
   "cell_type": "markdown",
   "metadata": {
    "id": "3zT5CL4QTdQl"
   },
   "source": [
    "## okt사용하여 토큰화 "
   ]
  },
  {
   "cell_type": "code",
   "execution_count": 40,
   "metadata": {
    "id": "HAyzLW8x4b9o"
   },
   "outputs": [],
   "source": [
    "from konlpy.tag import Okt\n",
    "from soynlp.normalizer import *\n",
    "okt = Okt()"
   ]
  },
  {
   "cell_type": "code",
   "execution_count": 41,
   "metadata": {
    "colab": {
     "base_uri": "https://localhost:8080/"
    },
    "id": "bvhXFMUG4cFi",
    "outputId": "c3573ec4-17e4-4383-a0f2-ba477f85550d"
   },
   "outputs": [
    {
     "name": "stdout",
     "output_type": "stream",
     "text": [
      "['이', '게', '대체', '무슨', '말', '이야', '?????']\n"
     ]
    }
   ],
   "source": [
    "#test shell\n",
    "print(okt.morphs('이게 대체 무슨말이야?????')) #okt 테스트\n",
    "# print(emoticon_normalize('이게 대체 무슨말이야?????', num_repeats=2)) #soynlp 테스트\n",
    "# print(okt.pos(emoticon_normalize('이게 대체 무슨말이야?????', num_repeats=3))) #okt + soynlp 테스트"
   ]
  },
  {
   "cell_type": "code",
   "execution_count": 42,
   "metadata": {
    "id": "Pelm4H7V4Qhd"
   },
   "outputs": [],
   "source": [
    "X_train_tokenize = []\n",
    "X_test_tokenize = []\n",
    "X_validation_tokenize = []\n",
    "for i in X_train:\n",
    "    X_train_tokenize.append(okt.morphs(i))\n",
    "#     X_train_tokenize.append(okt.morphs(emoticon_normalize(i, num_repeats=2))) #norm옵션 : 그래욬ㅋㅋ -> 그래요 처럼 변환해주는 옵션 / stem옵션 : 원형을 찾아주는 옵션 (그래요 -> 그렇다)\n",
    "\n",
    "for i in X_test:\n",
    "    X_test_tokenize.append(okt.morphs(i))\n",
    "#     X_test_tokenize.append(okt.morphs(emoticon_normalize(i, num_repeats=2)))\n",
    "\n",
    "for i in X_validation:\n",
    "    X_validation_tokenize.append(okt.morphs(i))\n",
    "#     X_validation_tokenize.append(okt.morphs(emoticon_normalize(i, num_repeats=2)))"
   ]
  },
  {
   "cell_type": "code",
   "execution_count": 43,
   "metadata": {
    "colab": {
     "base_uri": "https://localhost:8080/"
    },
    "id": "ua793ESYNLZW",
    "outputId": "e9a06ad1-3f2a-4e56-b9db-3656fd91c657"
   },
   "outputs": [
    {
     "name": "stdout",
     "output_type": "stream",
     "text": [
      "훈련용 토큰화 결과:  ['참', '개', '같은', '논리', '다', '.']\n",
      "훈련용 토큰화 결과:  ['머', '한', '사람', '들', '은', '배워', '먹은게', '없다', '.']\n",
      "테스트용 토큰화 결과:  ['이강인', '아니라는데', '왜', '저', '게', '베댓', '이냐']\n",
      "테스트용 토큰화 결과:  ['넌', '진짜', '좀', '자', '.', '장', '은', '내', '가', '나중', '에', '봐', '올게', '.']\n",
      "검증용 토큰화 결과:  ['설현', '을', '까는건', '당연한', '거임']\n",
      "검증용 토큰화 결과:  ['마동석', '결혼', '한', '줄', '알았는데', '총각', '이었네', '.']\n"
     ]
    }
   ],
   "source": [
    "for i in X_train_tokenize[:2]:\n",
    "    print(\"훈련용 토큰화 결과: \", i)\n",
    "for i in X_test_tokenize[:2]:\n",
    "    print(\"테스트용 토큰화 결과: \", i)\n",
    "for i in X_validation_tokenize[:2]:\n",
    "    print(\"검증용 토큰화 결과: \", i)"
   ]
  },
  {
   "cell_type": "code",
   "execution_count": 44,
   "metadata": {},
   "outputs": [],
   "source": [
    "# for i in X_train_tokenize:\n",
    "#   print(i)\n",
    "# print(X_train_tokenize)"
   ]
  },
  {
   "cell_type": "code",
   "execution_count": 45,
   "metadata": {
    "colab": {
     "base_uri": "https://localhost:8080/"
    },
    "id": "Upcl2C6oC3QJ",
    "outputId": "6eaf8627-031b-4d5f-8f8a-74a11de7bfbc"
   },
   "outputs": [
    {
     "name": "stdout",
     "output_type": "stream",
     "text": [
      "['참', '개', '같은', '논리', '다', '.'] : 6\n",
      "['머', '한', '사람', '들', '은', '배워', '먹은게', '없다', '.'] : 9\n",
      "['이', '게', '팩트', '라면', '애플', '휴대폰', '사야겠다'] : 7\n",
      "['이강인', '아니라는데', '왜', '저', '게', '베댓', '이냐'] : 7\n",
      "['넌', '진짜', '좀', '자', '.', '장', '은', '내', '가', '나중', '에', '봐', '올게', '.'] : 14\n",
      "['저', '선수', '가', '저', '발', '로', '도', '골', '을', '넣네요'] : 10\n"
     ]
    }
   ],
   "source": [
    "train_len = [len(s) for s in X_train_tokenize]\n",
    "for i in range(3):\n",
    "    print(X_train_tokenize[i] ,\":\" ,train_len[i])\n",
    "\n",
    "test_len = [len(s) for s in X_test_tokenize]\n",
    "for i in range(3):\n",
    "    print(X_test_tokenize[i] ,\":\" ,test_len[i])"
   ]
  },
  {
   "cell_type": "code",
   "execution_count": 46,
   "metadata": {
    "colab": {
     "base_uri": "https://localhost:8080/",
     "height": 302
    },
    "id": "qVn5Vk0QGncy",
    "outputId": "b347adc5-17a7-43c6-ecf7-dc149bf1ef51"
   },
   "outputs": [
    {
     "name": "stdout",
     "output_type": "stream",
     "text": [
      "토큰화된 문장의 최대 토큰의 갯수 : 113\n",
      "토큰화된 문장의 평균 토큰의 갯수 : 10.06282743058962\n"
     ]
    },
    {
     "data": {
      "image/png": "[encoded data removed]",
      "text/plain": [
       "<Figure size 640x480 with 2 Axes>"
      ]
     },
     "metadata": {},
     "output_type": "display_data"
    }
   ],
   "source": [
    "print('토큰화된 문장의 최대 토큰의 갯수 : {}'.format(np.max(train_len)))\n",
    "print('토큰화된 문장의 평균 토큰의 갯수 : {}'.format(np.mean(train_len)))\n",
    "plt.subplot(1,2,1)\n",
    "plt.boxplot(train_len)\n",
    "plt.subplot(1,2,2)\n",
    "plt.hist(train_len,bins=30)\n",
    "plt.show()"
   ]
  },
  {
   "cell_type": "code",
   "execution_count": 47,
   "metadata": {
    "colab": {
     "base_uri": "https://localhost:8080/",
     "height": 304
    },
    "id": "L65zaXfwOYtn",
    "outputId": "9ffc17d3-23d6-4cc4-ec0c-d3ab502edd8a",
    "scrolled": true
   },
   "outputs": [
    {
     "name": "stdout",
     "output_type": "stream",
     "text": [
      "토큰화된 문장의 최대 토큰의 갯수 : 88\n",
      "토큰화된 문장의 평균 토큰의 갯수 : 10.14971156487501\n"
     ]
    },
    {
     "data": {
      "image/png": "[encoded data removed]",
      "text/plain": [
       "<Figure size 640x480 with 2 Axes>"
      ]
     },
     "metadata": {},
     "output_type": "display_data"
    }
   ],
   "source": [
    "print('토큰화된 문장의 최대 토큰의 갯수 : {}'.format(np.max(test_len)))\n",
    "print('토큰화된 문장의 평균 토큰의 갯수 : {}'.format(np.mean(test_len)))\n",
    "plt.subplot(1,2,1)\n",
    "plt.boxplot(test_len)\n",
    "plt.subplot(1,2,2)\n",
    "plt.hist(test_len,bins=30)\n",
    "plt.show()"
   ]
  },
  {
   "cell_type": "markdown",
   "metadata": {},
   "source": [
    "훈련용+테스트용 vocab_size 구하기"
   ]
  },
  {
   "cell_type": "code",
   "execution_count": 48,
   "metadata": {},
   "outputs": [],
   "source": [
    "# # print(len(X_train_tokenize))\n",
    "# print(len(X_test_tokenize))"
   ]
  },
  {
   "cell_type": "code",
   "execution_count": 49,
   "metadata": {},
   "outputs": [],
   "source": [
    "# len(X_train_tokenize + X_test_tokenize)"
   ]
  },
  {
   "cell_type": "code",
   "execution_count": 50,
   "metadata": {},
   "outputs": [],
   "source": [
    "# tokenize_all = []\n",
    "# for i in X_train_tokenize + X_test_tokenize:\n",
    "#     for j in i:\n",
    "#         tokenize_all.append(j)"
   ]
  },
  {
   "cell_type": "code",
   "execution_count": 51,
   "metadata": {},
   "outputs": [],
   "source": [
    "# vocab_size = len(set(tokenize_all))\n",
    "# print(vocab_size)"
   ]
  },
  {
   "cell_type": "markdown",
   "metadata": {},
   "source": [
    "## fasttext"
   ]
  },
  {
   "cell_type": "code",
   "execution_count": 52,
   "metadata": {
    "id": "UVuD8NdhYPWk"
   },
   "outputs": [
    {
     "name": "stderr",
     "output_type": "stream",
     "text": [
      "Warning : `load_model` does not return WordVectorModel or SupervisedModel any more, but a `FastText` object which is very similar.\n"
     ]
    },
    {
     "data": {
      "text/plain": [
       "300"
      ]
     },
     "execution_count": 52,
     "metadata": {},
     "output_type": "execute_result"
    }
   ],
   "source": [
    "import fasttext\n",
    "ft_model=fasttext.FastText.load_model('./cc.ko.300.bin')\n",
    "# ko_model = models.fasttext.load_facebook_model('cc.ko.300.bin.gz')\n",
    "ft_model.get_dimension()"
   ]
  },
  {
   "cell_type": "code",
   "execution_count": 53,
   "metadata": {},
   "outputs": [
    {
     "data": {
      "text/plain": [
       "<fasttext.FastText._FastText at 0x7fd7fcb82c10>"
      ]
     },
     "execution_count": 53,
     "metadata": {},
     "output_type": "execute_result"
    }
   ],
   "source": [
    "import fasttext.util\n",
    "\n",
    "fasttext.util.reduce_model(ft_model, 100)"
   ]
  },
  {
   "cell_type": "code",
   "execution_count": 54,
   "metadata": {},
   "outputs": [],
   "source": [
    "# ft_model.get_dimension()"
   ]
  },
  {
   "cell_type": "code",
   "execution_count": 55,
   "metadata": {},
   "outputs": [],
   "source": [
    "X_train_vector = []\n",
    "X_test_vector = []\n",
    "X_validation_vector = []"
   ]
  },
  {
   "cell_type": "code",
   "execution_count": 56,
   "metadata": {},
   "outputs": [],
   "source": [
    "X_train_vector2=[]\n",
    "for i in X_train_tokenize:\n",
    "    temp = []\n",
    "    temp2 = []\n",
    "    for j in i:\n",
    "        temp.append(ft_model.get_word_vector(j))\n",
    "        temp2.append(j)\n",
    "    X_train_vector.append(temp)\n",
    "    X_train_vector2.append(temp2)\n",
    "    \n",
    "for i in X_test_tokenize:\n",
    "    temp = []\n",
    "    for j in i:\n",
    "        temp.append(ft_model.get_word_vector(j))\n",
    "    X_test_vector.append(temp)\n",
    "    \n",
    "for i in X_validation_tokenize:\n",
    "    temp = []\n",
    "    for j in i:\n",
    "        temp.append(ft_model.get_word_vector(j))\n",
    "    X_validation_vector.append(temp)"
   ]
  },
  {
   "cell_type": "code",
   "execution_count": 57,
   "metadata": {},
   "outputs": [
    {
     "name": "stdout",
     "output_type": "stream",
     "text": [
      "[-0.17395188 -0.5592499  -0.06274052 -0.01729032 -0.36971495 -0.34348136\n",
      " -0.10343862  0.44770473 -0.14177376 -0.15892524 -0.17625625  0.17397559\n",
      "  0.42290878  0.28001636 -0.10278217  0.07825932  0.02354222 -0.05891432\n",
      "  0.19244078 -0.16177262 -0.02835948  0.03338853 -0.11030499  0.02176503\n",
      " -0.03840126 -0.18189299 -0.24853784 -0.12170628  0.05361379  0.0388284\n",
      "  0.17870358 -0.07850812 -0.07513924  0.0331715   0.2917008   0.11268285\n",
      "  0.19807038  0.17073597  0.04219483 -0.06062938  0.03109896 -0.08927466\n",
      "  0.02555734 -0.02033487 -0.00671926  0.2563307   0.03625286 -0.13846566\n",
      " -0.1067683  -0.2951119  -0.19306956  0.26093984  0.11874145 -0.11809891\n",
      " -0.0064369   0.01708436 -0.35481066  0.19168578 -0.05065218 -0.11315896\n",
      " -0.07615584  0.02439347 -0.11505485 -0.0800316  -0.0193148  -0.04787153\n",
      " -0.02939258  0.09866975  0.19272742  0.24106877  0.00572664 -0.14073387\n",
      "  0.01834312  0.0089238  -0.04148801  0.00122817  0.01368016 -0.11996531\n",
      "  0.10935668  0.00231421 -0.04617179 -0.09409046  0.12963353 -0.13446765\n",
      "  0.01801266  0.090829   -0.01708897  0.05681882 -0.01897493 -0.09413129\n",
      " -0.09958947  0.0869953   0.09218539  0.05598611  0.0072835   0.01420315\n",
      "  0.03321218  0.02798232 -0.09807862 -0.23003817]\n"
     ]
    }
   ],
   "source": [
    "print(X_train_vector[0][0])"
   ]
  },
  {
   "cell_type": "code",
   "execution_count": 58,
   "metadata": {},
   "outputs": [
    {
     "name": "stdout",
     "output_type": "stream",
     "text": [
      "(50965,)\n",
      "(6, 100)\n"
     ]
    },
    {
     "name": "stderr",
     "output_type": "stream",
     "text": [
      "/usr/local/lib/python3.8/dist-packages/numpy/core/fromnumeric.py:1970: VisibleDeprecationWarning: Creating an ndarray from ragged nested sequences (which is a list-or-tuple of lists-or-tuples-or ndarrays with different lengths or shapes) is deprecated. If you meant to do this, you must specify 'dtype=object' when creating the ndarray.\n",
      "  result = asarray(a).shape\n"
     ]
    }
   ],
   "source": [
    "print(np.shape(X_train_vector))\n",
    "print(np.shape(X_train_vector[0]))"
   ]
  },
  {
   "cell_type": "code",
   "execution_count": 59,
   "metadata": {
    "scrolled": true
   },
   "outputs": [
    {
     "data": {
      "text/plain": [
       "['이', '게', '팩트', '라면', '애플', '휴대폰', '사야겠다']"
      ]
     },
     "execution_count": 59,
     "metadata": {},
     "output_type": "execute_result"
    }
   ],
   "source": [
    "X_train_vector2[2]"
   ]
  },
  {
   "cell_type": "markdown",
   "metadata": {},
   "source": [
    "## 패딩과 인코딩"
   ]
  },
  {
   "cell_type": "code",
   "execution_count": 60,
   "metadata": {},
   "outputs": [],
   "source": [
    "from tensorflow.keras.preprocessing.sequence import pad_sequences\n",
    "max_len = 30\n",
    "X_train_pad = pad_sequences(X_train_vector, maxlen=max_len, padding='post', dtype='float32')\n",
    "X_test_pad = pad_sequences(X_test_vector, maxlen=max_len, padding='post', dtype='float32')\n",
    "X_validation_pad = pad_sequences(X_validation_vector, maxlen=max_len, padding='post', dtype='float32')"
   ]
  },
  {
   "cell_type": "code",
   "execution_count": 61,
   "metadata": {},
   "outputs": [
    {
     "name": "stdout",
     "output_type": "stream",
     "text": [
      "30\n",
      "30\n",
      "30\n"
     ]
    }
   ],
   "source": [
    "print(len(X_train_pad[0]))\n",
    "print(len(X_test_pad[0]))\n",
    "print(len(X_validation_pad[0]))"
   ]
  },
  {
   "cell_type": "code",
   "execution_count": 62,
   "metadata": {},
   "outputs": [
    {
     "data": {
      "text/plain": [
       "(50965, 30, 100)"
      ]
     },
     "execution_count": 62,
     "metadata": {},
     "output_type": "execute_result"
    }
   ],
   "source": [
    "X_train_pad.shape"
   ]
  },
  {
   "cell_type": "markdown",
   "metadata": {},
   "source": [
    "## Label Encoding / One-hot Encoding"
   ]
  },
  {
   "cell_type": "markdown",
   "metadata": {},
   "source": [
    "Label Encoding"
   ]
  },
  {
   "cell_type": "code",
   "execution_count": 63,
   "metadata": {},
   "outputs": [],
   "source": [
    "from sklearn.preprocessing import LabelEncoder"
   ]
  },
  {
   "cell_type": "code",
   "execution_count": 64,
   "metadata": {},
   "outputs": [
    {
     "data": {
      "text/plain": [
       "7128     놀람\n",
       "53796    중립\n",
       "7904     놀람\n",
       "1691     공포\n",
       "72614    슬픔\n",
       "         ..\n",
       "9022     놀람\n",
       "14585    분노\n",
       "29477    혐오\n",
       "29347    혐오\n",
       "20490    슬픔\n",
       "Name: Emotion, Length: 10921, dtype: object"
      ]
     },
     "execution_count": 64,
     "metadata": {},
     "output_type": "execute_result"
    }
   ],
   "source": [
    "y_test"
   ]
  },
  {
   "cell_type": "code",
   "execution_count": 65,
   "metadata": {},
   "outputs": [],
   "source": [
    "y_train_e = list(y_train)\n",
    "y_test_e = list(y_test)\n",
    "y_validation_e = list(y_validation)"
   ]
  },
  {
   "cell_type": "code",
   "execution_count": 66,
   "metadata": {},
   "outputs": [
    {
     "name": "stdout",
     "output_type": "stream",
     "text": [
      "['분노', '혐오', '놀람', '슬픔', '놀람']\n",
      "['놀람', '중립', '놀람', '공포', '슬픔']\n"
     ]
    }
   ],
   "source": [
    "print(y_train_e[:5])\n",
    "print(y_test_e[:5])"
   ]
  },
  {
   "cell_type": "code",
   "execution_count": 67,
   "metadata": {},
   "outputs": [
    {
     "data": {
      "text/plain": [
       "LabelEncoder()"
      ]
     },
     "execution_count": 67,
     "metadata": {},
     "output_type": "execute_result"
    }
   ],
   "source": [
    "encoder = LabelEncoder()\n",
    "encoder.fit(y_train_e)\n",
    "encoder.fit(y_test_e)\n",
    "encoder.fit(y_validation_e)"
   ]
  },
  {
   "cell_type": "code",
   "execution_count": 68,
   "metadata": {},
   "outputs": [],
   "source": [
    "y_train_encode = encoder.transform(y_train_e)\n",
    "y_test_encode = encoder.transform(y_test_e)\n",
    "y_validation_encode = encoder.transform(y_validation_e)"
   ]
  },
  {
   "cell_type": "code",
   "execution_count": 69,
   "metadata": {},
   "outputs": [
    {
     "data": {
      "text/plain": [
       "array([2, 6, 1, ..., 6, 4, 4])"
      ]
     },
     "execution_count": 69,
     "metadata": {},
     "output_type": "execute_result"
    }
   ],
   "source": [
    "y_train_encode"
   ]
  },
  {
   "cell_type": "markdown",
   "metadata": {},
   "source": [
    "One-hot Encoding"
   ]
  },
  {
   "cell_type": "code",
   "execution_count": 70,
   "metadata": {},
   "outputs": [],
   "source": [
    "from sklearn.preprocessing import OneHotEncoder\n",
    "\n",
    "y_train_encode = y_train_encode.reshape(-1,1)\n",
    "y_test_encode = y_test_encode.reshape(-1,1)\n",
    "y_validation_encode = y_validation_encode.reshape(-1,1)"
   ]
  },
  {
   "cell_type": "code",
   "execution_count": 71,
   "metadata": {},
   "outputs": [
    {
     "name": "stdout",
     "output_type": "stream",
     "text": [
      "[[2]\n",
      " [6]\n",
      " [1]\n",
      " ...\n",
      " [6]\n",
      " [4]\n",
      " [4]]\n"
     ]
    }
   ],
   "source": [
    "print(y_train_encode)"
   ]
  },
  {
   "cell_type": "code",
   "execution_count": 72,
   "metadata": {},
   "outputs": [],
   "source": [
    "one_hot_encoder = OneHotEncoder()\n",
    "one_hot_encoder.fit(y_train_encode)\n",
    "one_hot_encoder.fit(y_test_encode)\n",
    "one_hot_encoder.fit(y_validation_encode)\n",
    "\n",
    "y_train_onehot = one_hot_encoder.transform(y_train_encode)\n",
    "y_test_onehot = one_hot_encoder.transform(y_test_encode)\n",
    "y_validation_onehot = one_hot_encoder.transform(y_validation_encode)"
   ]
  },
  {
   "cell_type": "code",
   "execution_count": 73,
   "metadata": {},
   "outputs": [
    {
     "data": {
      "text/plain": [
       "<50965x7 sparse matrix of type '<class 'numpy.float64'>'\n",
       "\twith 50965 stored elements in Compressed Sparse Row format>"
      ]
     },
     "execution_count": 73,
     "metadata": {},
     "output_type": "execute_result"
    }
   ],
   "source": [
    "y_train_onehot"
   ]
  },
  {
   "cell_type": "code",
   "execution_count": 74,
   "metadata": {},
   "outputs": [],
   "source": [
    "y_train_onehot_arr = y_train_onehot.toarray()\n",
    "y_test_onehot_arr = y_test_onehot.toarray()\n",
    "y_validation_onehot_arr = y_validation_onehot.toarray()"
   ]
  },
  {
   "cell_type": "code",
   "execution_count": 75,
   "metadata": {},
   "outputs": [
    {
     "name": "stdout",
     "output_type": "stream",
     "text": [
      "[[0. 0. 1. ... 0. 0. 0.]\n",
      " [0. 0. 0. ... 0. 0. 1.]\n",
      " [0. 1. 0. ... 0. 0. 0.]\n",
      " ...\n",
      " [0. 0. 0. ... 0. 0. 1.]\n",
      " [0. 0. 0. ... 1. 0. 0.]\n",
      " [0. 0. 0. ... 1. 0. 0.]]\n"
     ]
    }
   ],
   "source": [
    "print(y_train_onehot_arr)"
   ]
  },
  {
   "cell_type": "markdown",
   "metadata": {},
   "source": [
    "shape 확인"
   ]
  },
  {
   "cell_type": "code",
   "execution_count": 76,
   "metadata": {},
   "outputs": [
    {
     "name": "stdout",
     "output_type": "stream",
     "text": [
      "(50965, 30, 100)\n",
      "(50965, 7)\n",
      "(10921, 30, 100)\n",
      "(10921, 7)\n"
     ]
    }
   ],
   "source": [
    "print(X_train_pad.shape) #X_train\n",
    "print(y_train_onehot_arr.shape) #X_test\n",
    "print(X_test_pad.shape) #y_train\n",
    "print(y_test_onehot_arr.shape) #y_test"
   ]
  },
  {
   "cell_type": "code",
   "execution_count": 77,
   "metadata": {},
   "outputs": [
    {
     "name": "stdout",
     "output_type": "stream",
     "text": [
      "50965\n",
      "50965\n",
      "30\n",
      "100\n",
      "50965\n"
     ]
    }
   ],
   "source": [
    "print(len(X_train))\n",
    "print(len(X_train_pad)) #문장 갯수\n",
    "print(len(X_train_pad[0])) #문장하나당 토큰갯수\n",
    "print(len(X_train_pad[0][0])) #토큰하나당 차원\n",
    "print(len(y_train_onehot_arr))# 문장하나당 label"
   ]
  },
  {
   "cell_type": "code",
   "execution_count": 78,
   "metadata": {},
   "outputs": [
    {
     "data": {
      "text/plain": [
       "(50965, 30, 100)"
      ]
     },
     "execution_count": 78,
     "metadata": {},
     "output_type": "execute_result"
    }
   ],
   "source": [
    "np.shape(X_train_pad)"
   ]
  },
  {
   "cell_type": "code",
   "execution_count": 79,
   "metadata": {},
   "outputs": [],
   "source": [
    "# len(y_train_onehot_arr[0])"
   ]
  },
  {
   "cell_type": "markdown",
   "metadata": {},
   "source": [
    "## 1) LSTM 1"
   ]
  },
  {
   "cell_type": "code",
   "execution_count": 80,
   "metadata": {},
   "outputs": [],
   "source": [
    "# #모델 초기화 코드\n",
    "import tensorflow as tf\n",
    "tf.keras.backend.clear_session()"
   ]
  },
  {
   "cell_type": "code",
   "execution_count": 81,
   "metadata": {},
   "outputs": [],
   "source": [
    "from tensorflow.keras.layers import Dense, Embedding, Bidirectional, LSTM\n",
    "from tensorflow.keras import optimizers, Sequential\n",
    "from tensorflow.keras.models import load_model\n",
    "from tensorflow.keras.callbacks import EarlyStopping, ModelCheckpoint"
   ]
  },
  {
   "cell_type": "code",
   "execution_count": 82,
   "metadata": {},
   "outputs": [
    {
     "name": "stdout",
     "output_type": "stream",
     "text": [
      "(50965, 30, 100)\n",
      "(50965, 7)\n"
     ]
    }
   ],
   "source": [
    "print(X_train_pad.shape)\n",
    "print(y_train_onehot_arr.shape)"
   ]
  },
  {
   "cell_type": "code",
   "execution_count": 83,
   "metadata": {},
   "outputs": [],
   "source": [
    "model = Sequential() # Sequeatial Model \n",
    "model.add(LSTM(512, input_shape=[max_len, 100]))\n",
    "model.add(Dense(128))\n",
    "model.add(Dense(64))\n",
    "model.add(Dense(32))\n",
    "model.add(Dense(7, activation='softmax')) # output = 7"
   ]
  },
  {
   "cell_type": "code",
   "execution_count": 84,
   "metadata": {},
   "outputs": [],
   "source": [
    "mc = ModelCheckpoint('lstm_re1.h5', monitor='val_acc', mode='max', verbose=1, save_best_only=True)"
   ]
  },
  {
   "cell_type": "code",
   "execution_count": 85,
   "metadata": {
    "scrolled": false
   },
   "outputs": [],
   "source": [
    "model.compile(loss='categorical_crossentropy', optimizer='adam', metrics=['acc'])"
   ]
  },
  {
   "cell_type": "code",
   "execution_count": 86,
   "metadata": {},
   "outputs": [
    {
     "name": "stdout",
     "output_type": "stream",
     "text": [
      "Epoch 1/30\n",
      "2549/2549 [==============================] - ETA: 0s - loss: 1.7053 - acc: 0.3207\n",
      "Epoch 00001: val_acc improved from -inf to 0.42245, saving model to lstm_re1.h5\n",
      "2549/2549 [==============================] - 21s 6ms/step - loss: 1.7053 - acc: 0.3207 - val_loss: 1.4786 - val_acc: 0.4225\n",
      "Epoch 2/30\n",
      "2549/2549 [==============================] - ETA: 0s - loss: 1.3991 - acc: 0.4700\n",
      "Epoch 00002: val_acc improved from 0.42245 to 0.51245, saving model to lstm_re1.h5\n",
      "2549/2549 [==============================] - 14s 5ms/step - loss: 1.3991 - acc: 0.4700 - val_loss: 1.2858 - val_acc: 0.5125\n",
      "Epoch 3/30\n",
      "2547/2549 [============================>.] - ETA: 0s - loss: 1.2575 - acc: 0.5236\n",
      "Epoch 00003: val_acc improved from 0.51245 to 0.54349, saving model to lstm_re1.h5\n",
      "2549/2549 [==============================] - 14s 5ms/step - loss: 1.2575 - acc: 0.5235 - val_loss: 1.2069 - val_acc: 0.5435\n",
      "Epoch 4/30\n",
      "2548/2549 [============================>.] - ETA: 0s - loss: 1.1637 - acc: 0.5609\n",
      "Epoch 00004: val_acc improved from 0.54349 to 0.55970, saving model to lstm_re1.h5\n",
      "2549/2549 [==============================] - 14s 5ms/step - loss: 1.1637 - acc: 0.5609 - val_loss: 1.1698 - val_acc: 0.5597\n",
      "Epoch 5/30\n",
      "2544/2549 [============================>.] - ETA: 0s - loss: 1.0964 - acc: 0.5915\n",
      "Epoch 00005: val_acc improved from 0.55970 to 0.57700, saving model to lstm_re1.h5\n",
      "2549/2549 [==============================] - 14s 5ms/step - loss: 1.0962 - acc: 0.5916 - val_loss: 1.1431 - val_acc: 0.5770\n",
      "Epoch 6/30\n",
      "2547/2549 [============================>.] - ETA: 0s - loss: 1.0252 - acc: 0.6154\n",
      "Epoch 00006: val_acc did not improve from 0.57700\n",
      "2549/2549 [==============================] - 14s 5ms/step - loss: 1.0253 - acc: 0.6153 - val_loss: 1.1391 - val_acc: 0.5732\n",
      "Epoch 7/30\n",
      "2539/2549 [============================>.] - ETA: 0s - loss: 0.9522 - acc: 0.6429\n",
      "Epoch 00007: val_acc improved from 0.57700 to 0.58295, saving model to lstm_re1.h5\n",
      "2549/2549 [==============================] - 14s 5ms/step - loss: 0.9522 - acc: 0.6429 - val_loss: 1.1167 - val_acc: 0.5830\n",
      "Epoch 8/30\n",
      "2539/2549 [============================>.] - ETA: 0s - loss: 0.8722 - acc: 0.6754\n",
      "Epoch 00008: val_acc improved from 0.58295 to 0.59083, saving model to lstm_re1.h5\n",
      "2549/2549 [==============================] - 14s 5ms/step - loss: 0.8722 - acc: 0.6753 - val_loss: 1.1659 - val_acc: 0.5908\n",
      "Epoch 9/30\n",
      "2545/2549 [============================>.] - ETA: 0s - loss: 0.7715 - acc: 0.7146\n",
      "Epoch 00009: val_acc improved from 0.59083 to 0.59220, saving model to lstm_re1.h5\n",
      "2549/2549 [==============================] - 14s 5ms/step - loss: 0.7716 - acc: 0.7145 - val_loss: 1.1909 - val_acc: 0.5922\n",
      "Epoch 10/30\n",
      "2548/2549 [============================>.] - ETA: 0s - loss: 0.6664 - acc: 0.7547\n",
      "Epoch 00010: val_acc did not improve from 0.59220\n",
      "2549/2549 [==============================] - 14s 5ms/step - loss: 0.6663 - acc: 0.7547 - val_loss: 1.3479 - val_acc: 0.5822\n",
      "Epoch 11/30\n",
      "2545/2549 [============================>.] - ETA: 0s - loss: 0.5632 - acc: 0.7944\n",
      "Epoch 00011: val_acc did not improve from 0.59220\n",
      "2549/2549 [==============================] - 14s 5ms/step - loss: 0.5631 - acc: 0.7944 - val_loss: 1.3883 - val_acc: 0.5867\n",
      "Epoch 12/30\n",
      "2541/2549 [============================>.] - ETA: 0s - loss: 0.4737 - acc: 0.8292\n",
      "Epoch 00012: val_acc did not improve from 0.59220\n",
      "2549/2549 [==============================] - 14s 5ms/step - loss: 0.4740 - acc: 0.8291 - val_loss: 1.6636 - val_acc: 0.5754\n",
      "Epoch 13/30\n",
      "2543/2549 [============================>.] - ETA: 0s - loss: 0.3897 - acc: 0.8608\n",
      "Epoch 00013: val_acc did not improve from 0.59220\n",
      "2549/2549 [==============================] - 14s 5ms/step - loss: 0.3895 - acc: 0.8609 - val_loss: 1.7638 - val_acc: 0.5702\n",
      "Epoch 14/30\n",
      "2540/2549 [============================>.] - ETA: 0s - loss: 0.3326 - acc: 0.8837\n",
      "Epoch 00014: val_acc did not improve from 0.59220\n",
      "2549/2549 [==============================] - 14s 5ms/step - loss: 0.3327 - acc: 0.8836 - val_loss: 1.7627 - val_acc: 0.5696\n",
      "Epoch 15/30\n",
      "2543/2549 [============================>.] - ETA: 0s - loss: 0.2810 - acc: 0.9035\n",
      "Epoch 00015: val_acc did not improve from 0.59220\n",
      "2549/2549 [==============================] - 14s 5ms/step - loss: 0.2812 - acc: 0.9034 - val_loss: 1.9657 - val_acc: 0.5704\n",
      "Epoch 16/30\n",
      "2544/2549 [============================>.] - ETA: 0s - loss: 0.2355 - acc: 0.9210\n",
      "Epoch 00016: val_acc did not improve from 0.59220\n",
      "2549/2549 [==============================] - 14s 5ms/step - loss: 0.2355 - acc: 0.9210 - val_loss: 2.0405 - val_acc: 0.5732\n",
      "Epoch 17/30\n",
      "2549/2549 [==============================] - ETA: 0s - loss: 0.2023 - acc: 0.9331\n",
      "Epoch 00017: val_acc did not improve from 0.59220\n",
      "2549/2549 [==============================] - 14s 5ms/step - loss: 0.2023 - acc: 0.9331 - val_loss: 2.1264 - val_acc: 0.5649\n",
      "Epoch 18/30\n",
      "2549/2549 [==============================] - ETA: 0s - loss: 0.1813 - acc: 0.9392\n",
      "Epoch 00018: val_acc did not improve from 0.59220\n",
      "2549/2549 [==============================] - 14s 5ms/step - loss: 0.1813 - acc: 0.9392 - val_loss: 2.1167 - val_acc: 0.5687\n",
      "Epoch 19/30\n",
      "2547/2549 [============================>.] - ETA: 0s - loss: 0.1636 - acc: 0.9464\n",
      "Epoch 00019: val_acc did not improve from 0.59220\n",
      "2549/2549 [==============================] - 14s 5ms/step - loss: 0.1636 - acc: 0.9464 - val_loss: 2.0821 - val_acc: 0.5660\n",
      "Epoch 20/30\n",
      "2541/2549 [============================>.] - ETA: 0s - loss: 0.1496 - acc: 0.9505\n",
      "Epoch 00020: val_acc did not improve from 0.59220\n",
      "2549/2549 [==============================] - 14s 5ms/step - loss: 0.1497 - acc: 0.9505 - val_loss: 2.3739 - val_acc: 0.5654\n",
      "Epoch 21/30\n",
      "2540/2549 [============================>.] - ETA: 0s - loss: 0.1394 - acc: 0.9544\n",
      "Epoch 00021: val_acc did not improve from 0.59220\n",
      "2549/2549 [==============================] - 14s 5ms/step - loss: 0.1395 - acc: 0.9543 - val_loss: 2.2085 - val_acc: 0.5646\n",
      "Epoch 22/30\n",
      "2548/2549 [============================>.] - ETA: 0s - loss: 0.1224 - acc: 0.9597\n",
      "Epoch 00022: val_acc did not improve from 0.59220\n",
      "2549/2549 [==============================] - 14s 6ms/step - loss: 0.1224 - acc: 0.9597 - val_loss: 2.4778 - val_acc: 0.5648\n",
      "Epoch 23/30\n",
      "2539/2549 [============================>.] - ETA: 0s - loss: 0.1222 - acc: 0.9590\n",
      "Epoch 00023: val_acc did not improve from 0.59220\n",
      "2549/2549 [==============================] - 14s 5ms/step - loss: 0.1222 - acc: 0.9590 - val_loss: 2.3244 - val_acc: 0.5632\n",
      "Epoch 24/30\n",
      "2544/2549 [============================>.] - ETA: 0s - loss: 0.1086 - acc: 0.9640\n",
      "Epoch 00024: val_acc did not improve from 0.59220\n",
      "2549/2549 [==============================] - 14s 5ms/step - loss: 0.1087 - acc: 0.9640 - val_loss: 2.5817 - val_acc: 0.5678\n",
      "Epoch 25/30\n",
      "2541/2549 [============================>.] - ETA: 0s - loss: 0.1058 - acc: 0.9658\n",
      "Epoch 00025: val_acc did not improve from 0.59220\n",
      "2549/2549 [==============================] - 14s 6ms/step - loss: 0.1059 - acc: 0.9657 - val_loss: 2.5128 - val_acc: 0.5622\n",
      "Epoch 26/30\n",
      "2539/2549 [============================>.] - ETA: 0s - loss: 0.0988 - acc: 0.9676\n",
      "Epoch 00026: val_acc did not improve from 0.59220\n",
      "2549/2549 [==============================] - 14s 6ms/step - loss: 0.0989 - acc: 0.9675 - val_loss: 2.4125 - val_acc: 0.5683\n",
      "Epoch 27/30\n",
      "2539/2549 [============================>.] - ETA: 0s - loss: 0.0962 - acc: 0.9689\n",
      "Epoch 00027: val_acc did not improve from 0.59220\n",
      "2549/2549 [==============================] - 14s 6ms/step - loss: 0.0966 - acc: 0.9688 - val_loss: 2.3057 - val_acc: 0.5613\n",
      "Epoch 28/30\n",
      "2544/2549 [============================>.] - ETA: 0s - loss: 0.0891 - acc: 0.9704\n",
      "Epoch 00028: val_acc did not improve from 0.59220\n",
      "2549/2549 [==============================] - 14s 6ms/step - loss: 0.0892 - acc: 0.9703 - val_loss: 2.7013 - val_acc: 0.5659\n",
      "Epoch 29/30\n",
      "2545/2549 [============================>.] - ETA: 0s - loss: 0.0907 - acc: 0.9700\n",
      "Epoch 00029: val_acc did not improve from 0.59220\n",
      "2549/2549 [==============================] - 14s 6ms/step - loss: 0.0908 - acc: 0.9699 - val_loss: 2.5504 - val_acc: 0.5644\n",
      "Epoch 30/30\n",
      "2540/2549 [============================>.] - ETA: 0s - loss: 0.0838 - acc: 0.9733\n",
      "Epoch 00030: val_acc did not improve from 0.59220\n",
      "2549/2549 [==============================] - 14s 6ms/step - loss: 0.0838 - acc: 0.9734 - val_loss: 2.4825 - val_acc: 0.5639\n"
     ]
    }
   ],
   "source": [
    "history = model.fit(X_train_pad, y_train_onehot_arr, batch_size=20, callbacks = mc, epochs=30, validation_data = (X_validation_pad, y_validation_onehot_arr))"
   ]
  },
  {
   "cell_type": "code",
   "execution_count": 87,
   "metadata": {
    "scrolled": false
   },
   "outputs": [
    {
     "name": "stdout",
     "output_type": "stream",
     "text": [
      "Model: \"sequential\"\n",
      "_________________________________________________________________\n",
      " Layer (type)                Output Shape              Param #   \n",
      "=================================================================\n",
      " lstm (LSTM)                 (None, 512)               1255424   \n",
      "                                                                 \n",
      " dense (Dense)               (None, 128)               65664     \n",
      "                                                                 \n",
      " dense_1 (Dense)             (None, 64)                8256      \n",
      "                                                                 \n",
      " dense_2 (Dense)             (None, 32)                2080      \n",
      "                                                                 \n",
      " dense_3 (Dense)             (None, 7)                 231       \n",
      "                                                                 \n",
      "=================================================================\n",
      "Total params: 1,331,655\n",
      "Trainable params: 1,331,655\n",
      "Non-trainable params: 0\n",
      "_________________________________________________________________\n"
     ]
    }
   ],
   "source": [
    "model.summary()"
   ]
  },
  {
   "cell_type": "code",
   "execution_count": 105,
   "metadata": {
    "scrolled": true
   },
   "outputs": [
    {
     "name": "stdout",
     "output_type": "stream",
     "text": [
      "342/342 [==============================] - 2s 3ms/step - loss: 1.1909 - acc: 0.5922\n",
      "\n",
      " 테스트 loss : 1.1909 테스트 정확도: 0.5922 \n"
     ]
    }
   ],
   "source": [
    "loaded_model = load_model('lstm_re1.h5') \n",
    "loaded_model_lst = loaded_model.evaluate(X_validation_pad, y_validation_onehot_arr)\n",
    "print(\"\\n 테스트 loss : {:.4f} 테스트 정확도: {:.4f} \" .format(loaded_model_lst[0],loaded_model_lst[1]))"
   ]
  },
  {
   "cell_type": "code",
   "execution_count": null,
   "metadata": {},
   "outputs": [],
   "source": [
    "# results = loaded_model.evaluate(X_test, y_test, batch_size=100)\n",
    "# print('test loss, test acc:', results)"
   ]
  },
  {
   "cell_type": "markdown",
   "metadata": {},
   "source": [
    "## 2) LSTM2"
   ]
  },
  {
   "cell_type": "code",
   "execution_count": 90,
   "metadata": {},
   "outputs": [],
   "source": [
    "#모델 초기화\n",
    "import tensorflow as tf\n",
    "tf.keras.backend.clear_session()"
   ]
  },
  {
   "cell_type": "code",
   "execution_count": 91,
   "metadata": {},
   "outputs": [],
   "source": [
    "model = Sequential() # Sequeatial Model \n",
    "model.add(Bidirectional(LSTM(512,input_shape = (max_len, 100), return_sequences = True)))\n",
    "model.add(LSTM(256, return_sequences = True))\n",
    "model.add(LSTM(128, return_sequences = False))\n",
    "model.add(Dense(64))\n",
    "model.add(Dense(7, activation='softmax'))"
   ]
  },
  {
   "cell_type": "code",
   "execution_count": 92,
   "metadata": {},
   "outputs": [],
   "source": [
    "mc = ModelCheckpoint('lstm_re2.h5', monitor='val_acc', mode='max', verbose=1, save_best_only=True)"
   ]
  },
  {
   "cell_type": "code",
   "execution_count": 93,
   "metadata": {
    "scrolled": false
   },
   "outputs": [],
   "source": [
    "model.compile(loss='categorical_crossentropy', optimizer='adam', metrics=['acc'])"
   ]
  },
  {
   "cell_type": "code",
   "execution_count": 94,
   "metadata": {},
   "outputs": [
    {
     "name": "stdout",
     "output_type": "stream",
     "text": [
      "Epoch 1/30\n",
      "2547/2549 [============================>.] - ETA: 0s - loss: 1.5838 - acc: 0.3913\n",
      "Epoch 00001: val_acc improved from -inf to 0.48384, saving model to lstm_re2.h5\n",
      "2549/2549 [==============================] - 46s 15ms/step - loss: 1.5836 - acc: 0.3914 - val_loss: 1.3822 - val_acc: 0.4838\n",
      "Epoch 2/30\n",
      "2546/2549 [============================>.] - ETA: 0s - loss: 1.3286 - acc: 0.5010\n",
      "Epoch 00002: val_acc improved from 0.48384 to 0.52825, saving model to lstm_re2.h5\n",
      "2549/2549 [==============================] - 37s 15ms/step - loss: 1.3286 - acc: 0.5010 - val_loss: 1.2406 - val_acc: 0.5282\n",
      "Epoch 3/30\n",
      "2549/2549 [==============================] - ETA: 0s - loss: 1.2024 - acc: 0.5471\n",
      "Epoch 00003: val_acc improved from 0.52825 to 0.55755, saving model to lstm_re2.h5\n",
      "2549/2549 [==============================] - 38s 15ms/step - loss: 1.2024 - acc: 0.5471 - val_loss: 1.1770 - val_acc: 0.5575\n",
      "Epoch 4/30\n",
      "2549/2549 [==============================] - ETA: 0s - loss: 1.0974 - acc: 0.5876\n",
      "Epoch 00004: val_acc improved from 0.55755 to 0.57504, saving model to lstm_re2.h5\n",
      "2549/2549 [==============================] - 38s 15ms/step - loss: 1.0974 - acc: 0.5876 - val_loss: 1.1330 - val_acc: 0.5750\n",
      "Epoch 5/30\n",
      "2549/2549 [==============================] - ETA: 0s - loss: 1.0106 - acc: 0.6182\n",
      "Epoch 00005: val_acc improved from 0.57504 to 0.58969, saving model to lstm_re2.h5\n",
      "2549/2549 [==============================] - 38s 15ms/step - loss: 1.0106 - acc: 0.6182 - val_loss: 1.1020 - val_acc: 0.5897\n",
      "Epoch 6/30\n",
      "2549/2549 [==============================] - ETA: 0s - loss: 0.9248 - acc: 0.6513\n",
      "Epoch 00006: val_acc improved from 0.58969 to 0.59912, saving model to lstm_re2.h5\n",
      "2549/2549 [==============================] - 38s 15ms/step - loss: 0.9248 - acc: 0.6513 - val_loss: 1.1007 - val_acc: 0.5991\n",
      "Epoch 7/30\n",
      "2549/2549 [==============================] - ETA: 0s - loss: 0.8166 - acc: 0.6956\n",
      "Epoch 00007: val_acc did not improve from 0.59912\n",
      "2549/2549 [==============================] - 38s 15ms/step - loss: 0.8166 - acc: 0.6956 - val_loss: 1.1164 - val_acc: 0.5979\n",
      "Epoch 8/30\n",
      "2549/2549 [==============================] - ETA: 0s - loss: 0.6810 - acc: 0.7477\n",
      "Epoch 00008: val_acc did not improve from 0.59912\n",
      "2549/2549 [==============================] - 38s 15ms/step - loss: 0.6810 - acc: 0.7477 - val_loss: 1.2205 - val_acc: 0.5848\n",
      "Epoch 9/30\n",
      "2549/2549 [==============================] - ETA: 0s - loss: 0.5347 - acc: 0.8030\n",
      "Epoch 00009: val_acc did not improve from 0.59912\n",
      "2549/2549 [==============================] - 38s 15ms/step - loss: 0.5347 - acc: 0.8030 - val_loss: 1.3451 - val_acc: 0.5817\n",
      "Epoch 10/30\n",
      "2549/2549 [==============================] - ETA: 0s - loss: 0.4111 - acc: 0.8501\n",
      "Epoch 00010: val_acc did not improve from 0.59912\n",
      "2549/2549 [==============================] - 38s 15ms/step - loss: 0.4111 - acc: 0.8501 - val_loss: 1.5374 - val_acc: 0.5895\n",
      "Epoch 11/30\n",
      "2549/2549 [==============================] - ETA: 0s - loss: 0.3025 - acc: 0.8938\n",
      "Epoch 00011: val_acc did not improve from 0.59912\n",
      "2549/2549 [==============================] - 38s 15ms/step - loss: 0.3025 - acc: 0.8938 - val_loss: 1.6428 - val_acc: 0.5725\n",
      "Epoch 12/30\n",
      "2549/2549 [==============================] - ETA: 0s - loss: 0.2306 - acc: 0.9200\n",
      "Epoch 00012: val_acc did not improve from 0.59912\n",
      "2549/2549 [==============================] - 38s 15ms/step - loss: 0.2306 - acc: 0.9200 - val_loss: 1.8286 - val_acc: 0.5790\n",
      "Epoch 13/30\n",
      "2549/2549 [==============================] - ETA: 0s - loss: 0.1835 - acc: 0.9365\n",
      "Epoch 00013: val_acc did not improve from 0.59912\n",
      "2549/2549 [==============================] - 38s 15ms/step - loss: 0.1835 - acc: 0.9365 - val_loss: 2.1003 - val_acc: 0.5807\n",
      "Epoch 14/30\n",
      "2549/2549 [==============================] - ETA: 0s - loss: 0.1540 - acc: 0.9468\n",
      "Epoch 00014: val_acc did not improve from 0.59912\n",
      "2549/2549 [==============================] - 38s 15ms/step - loss: 0.1540 - acc: 0.9468 - val_loss: 2.2633 - val_acc: 0.5708\n",
      "Epoch 15/30\n",
      "2549/2549 [==============================] - ETA: 0s - loss: 0.1359 - acc: 0.9533\n",
      "Epoch 00015: val_acc did not improve from 0.59912\n",
      "2549/2549 [==============================] - 38s 15ms/step - loss: 0.1359 - acc: 0.9533 - val_loss: 2.1901 - val_acc: 0.5797\n",
      "Epoch 16/30\n",
      "2549/2549 [==============================] - ETA: 0s - loss: 0.1187 - acc: 0.9593\n",
      "Epoch 00016: val_acc did not improve from 0.59912\n",
      "2549/2549 [==============================] - 38s 15ms/step - loss: 0.1187 - acc: 0.9593 - val_loss: 2.3956 - val_acc: 0.5725\n",
      "Epoch 17/30\n",
      "2549/2549 [==============================] - ETA: 0s - loss: 0.1083 - acc: 0.9627\n",
      "Epoch 00017: val_acc did not improve from 0.59912\n",
      "2549/2549 [==============================] - 38s 15ms/step - loss: 0.1083 - acc: 0.9627 - val_loss: 2.3925 - val_acc: 0.5793\n",
      "Epoch 18/30\n",
      "2549/2549 [==============================] - ETA: 0s - loss: 0.1018 - acc: 0.9645\n",
      "Epoch 00018: val_acc did not improve from 0.59912\n",
      "2549/2549 [==============================] - 38s 15ms/step - loss: 0.1018 - acc: 0.9645 - val_loss: 2.3876 - val_acc: 0.5746\n",
      "Epoch 19/30\n",
      "2549/2549 [==============================] - ETA: 0s - loss: 0.0919 - acc: 0.9689\n",
      "Epoch 00019: val_acc did not improve from 0.59912\n",
      "2549/2549 [==============================] - 38s 15ms/step - loss: 0.0919 - acc: 0.9689 - val_loss: 2.4778 - val_acc: 0.5810\n",
      "Epoch 20/30\n",
      "2549/2549 [==============================] - ETA: 0s - loss: 0.0855 - acc: 0.9705\n",
      "Epoch 00020: val_acc did not improve from 0.59912\n",
      "2549/2549 [==============================] - 38s 15ms/step - loss: 0.0855 - acc: 0.9705 - val_loss: 2.5181 - val_acc: 0.5803\n",
      "Epoch 21/30\n",
      "2549/2549 [==============================] - ETA: 0s - loss: 0.0856 - acc: 0.9707\n",
      "Epoch 00021: val_acc did not improve from 0.59912\n",
      "2549/2549 [==============================] - 38s 15ms/step - loss: 0.0856 - acc: 0.9707 - val_loss: 2.3579 - val_acc: 0.5846\n",
      "Epoch 22/30\n",
      "2549/2549 [==============================] - ETA: 0s - loss: 0.0781 - acc: 0.9733\n",
      "Epoch 00022: val_acc did not improve from 0.59912\n",
      "2549/2549 [==============================] - 38s 15ms/step - loss: 0.0781 - acc: 0.9733 - val_loss: 2.6127 - val_acc: 0.5738\n",
      "Epoch 23/30\n",
      "2549/2549 [==============================] - ETA: 0s - loss: 0.0799 - acc: 0.9726\n",
      "Epoch 00023: val_acc did not improve from 0.59912\n",
      "2549/2549 [==============================] - 38s 15ms/step - loss: 0.0799 - acc: 0.9726 - val_loss: 2.4935 - val_acc: 0.5742\n",
      "Epoch 24/30\n",
      "2549/2549 [==============================] - ETA: 0s - loss: 0.0716 - acc: 0.9747\n",
      "Epoch 00024: val_acc did not improve from 0.59912\n",
      "2549/2549 [==============================] - 38s 15ms/step - loss: 0.0716 - acc: 0.9747 - val_loss: 2.5628 - val_acc: 0.5774\n",
      "Epoch 25/30\n",
      "2549/2549 [==============================] - ETA: 0s - loss: 0.0695 - acc: 0.9759\n",
      "Epoch 00025: val_acc did not improve from 0.59912\n",
      "2549/2549 [==============================] - 38s 15ms/step - loss: 0.0695 - acc: 0.9759 - val_loss: 2.5615 - val_acc: 0.5795\n",
      "Epoch 26/30\n",
      "2549/2549 [==============================] - ETA: 0s - loss: 0.0695 - acc: 0.9760\n",
      "Epoch 00026: val_acc did not improve from 0.59912\n",
      "2549/2549 [==============================] - 38s 15ms/step - loss: 0.0695 - acc: 0.9760 - val_loss: 2.4646 - val_acc: 0.5821\n",
      "Epoch 27/30\n",
      "2549/2549 [==============================] - ETA: 0s - loss: 0.0629 - acc: 0.9785\n",
      "Epoch 00027: val_acc did not improve from 0.59912\n",
      "2549/2549 [==============================] - 38s 15ms/step - loss: 0.0629 - acc: 0.9785 - val_loss: 2.5824 - val_acc: 0.5799\n",
      "Epoch 28/30\n",
      "2549/2549 [==============================] - ETA: 0s - loss: 0.0623 - acc: 0.9787\n",
      "Epoch 00028: val_acc did not improve from 0.59912\n",
      "2549/2549 [==============================] - 38s 15ms/step - loss: 0.0623 - acc: 0.9787 - val_loss: 2.5707 - val_acc: 0.5835\n",
      "Epoch 29/30\n",
      "2549/2549 [==============================] - ETA: 0s - loss: 0.0607 - acc: 0.9795\n",
      "Epoch 00029: val_acc did not improve from 0.59912\n",
      "2549/2549 [==============================] - 38s 15ms/step - loss: 0.0607 - acc: 0.9795 - val_loss: 2.5481 - val_acc: 0.5792\n",
      "Epoch 30/30\n",
      "2549/2549 [==============================] - ETA: 0s - loss: 0.0573 - acc: 0.9796\n",
      "Epoch 00030: val_acc did not improve from 0.59912\n",
      "2549/2549 [==============================] - 38s 15ms/step - loss: 0.0573 - acc: 0.9796 - val_loss: 2.7350 - val_acc: 0.5806\n"
     ]
    }
   ],
   "source": [
    "history = model.fit(X_train_pad, y_train_onehot_arr, batch_size=20, callbacks = mc, epochs=30, validation_data = (X_test_pad, y_test_onehot_arr))"
   ]
  },
  {
   "cell_type": "code",
   "execution_count": 95,
   "metadata": {
    "scrolled": false
   },
   "outputs": [
    {
     "name": "stdout",
     "output_type": "stream",
     "text": [
      "Model: \"sequential\"\n",
      "_________________________________________________________________\n",
      " Layer (type)                Output Shape              Param #   \n",
      "=================================================================\n",
      " bidirectional (Bidirectiona  (None, 30, 1024)         2510848   \n",
      " l)                                                              \n",
      "                                                                 \n",
      " lstm_1 (LSTM)               (None, 30, 256)           1311744   \n",
      "                                                                 \n",
      " lstm_2 (LSTM)               (None, 128)               197120    \n",
      "                                                                 \n",
      " dense (Dense)               (None, 64)                8256      \n",
      "                                                                 \n",
      " dense_1 (Dense)             (None, 7)                 455       \n",
      "                                                                 \n",
      "=================================================================\n",
      "Total params: 4,028,423\n",
      "Trainable params: 4,028,423\n",
      "Non-trainable params: 0\n",
      "_________________________________________________________________\n"
     ]
    }
   ],
   "source": [
    "model.summary()"
   ]
  },
  {
   "cell_type": "code",
   "execution_count": 96,
   "metadata": {
    "scrolled": true
   },
   "outputs": [
    {
     "name": "stdout",
     "output_type": "stream",
     "text": [
      "342/342 [==============================] - 4s 7ms/step - loss: 1.1167 - acc: 0.5947\n",
      "\n",
      " 테스트 정확도: 0.5947\n"
     ]
    }
   ],
   "source": [
    "loaded_model = load_model('lstm_re2.h5')\n",
    "print(\"\\n 테스트 정확도: %.4f\" % (loaded_model.evaluate(X_validation_pad, y_validation_onehot_arr)[1]))"
   ]
  },
  {
   "cell_type": "markdown",
   "metadata": {},
   "source": [
    "## 3) LSTM 3"
   ]
  },
  {
   "cell_type": "code",
   "execution_count": 97,
   "metadata": {},
   "outputs": [],
   "source": [
    "#모델 초기화\n",
    "import tensorflow as tf\n",
    "tf.keras.backend.clear_session()"
   ]
  },
  {
   "cell_type": "code",
   "execution_count": 98,
   "metadata": {},
   "outputs": [],
   "source": [
    "model = Sequential() # Sequeatial Model \n",
    "model.add(Bidirectional(LSTM(64,input_shape = (max_len, 100), return_sequences = True)))\n",
    "model.add(LSTM(64, return_sequences = True))\n",
    "model.add(LSTM(32, return_sequences = False))\n",
    "model.add(Dense(8))\n",
    "model.add(Dense(7, activation='softmax'))"
   ]
  },
  {
   "cell_type": "code",
   "execution_count": 99,
   "metadata": {},
   "outputs": [],
   "source": [
    "mc = ModelCheckpoint('lstm3_re.h5', monitor='val_acc', mode='max', verbose=1, save_best_only=True)"
   ]
  },
  {
   "cell_type": "code",
   "execution_count": 100,
   "metadata": {},
   "outputs": [],
   "source": [
    "model.compile(loss='categorical_crossentropy', optimizer='adam', metrics=['acc'])"
   ]
  },
  {
   "cell_type": "code",
   "execution_count": 101,
   "metadata": {},
   "outputs": [
    {
     "name": "stdout",
     "output_type": "stream",
     "text": [
      "Epoch 1/30\n",
      "2546/2549 [============================>.] - ETA: 0s - loss: 1.5546 - acc: 0.3972\n",
      "Epoch 00001: val_acc improved from -inf to 0.47230, saving model to lstm3_re.h5\n",
      "2549/2549 [==============================] - 29s 9ms/step - loss: 1.5545 - acc: 0.3972 - val_loss: 1.3997 - val_acc: 0.4723\n",
      "Epoch 2/30\n",
      "2548/2549 [============================>.] - ETA: 0s - loss: 1.3520 - acc: 0.4896\n",
      "Epoch 00002: val_acc improved from 0.47230 to 0.51113, saving model to lstm3_re.h5\n",
      "2549/2549 [==============================] - 22s 8ms/step - loss: 1.3520 - acc: 0.4896 - val_loss: 1.2899 - val_acc: 0.5111\n",
      "Epoch 3/30\n",
      "2547/2549 [============================>.] - ETA: 0s - loss: 1.2544 - acc: 0.5274\n",
      "Epoch 00003: val_acc improved from 0.51113 to 0.53786, saving model to lstm3_re.h5\n",
      "2549/2549 [==============================] - 21s 8ms/step - loss: 1.2545 - acc: 0.5275 - val_loss: 1.2350 - val_acc: 0.5379\n",
      "Epoch 4/30\n",
      "2548/2549 [============================>.] - ETA: 0s - loss: 1.1942 - acc: 0.5514\n",
      "Epoch 00004: val_acc improved from 0.53786 to 0.55645, saving model to lstm3_re.h5\n",
      "2549/2549 [==============================] - 21s 8ms/step - loss: 1.1942 - acc: 0.5513 - val_loss: 1.1928 - val_acc: 0.5565\n",
      "Epoch 5/30\n",
      "2544/2549 [============================>.] - ETA: 0s - loss: 1.1354 - acc: 0.5742\n",
      "Epoch 00005: val_acc improved from 0.55645 to 0.56405, saving model to lstm3_re.h5\n",
      "2549/2549 [==============================] - 21s 8ms/step - loss: 1.1356 - acc: 0.5741 - val_loss: 1.1502 - val_acc: 0.5641\n",
      "Epoch 6/30\n",
      "2549/2549 [==============================] - ETA: 0s - loss: 1.0946 - acc: 0.5880\n",
      "Epoch 00006: val_acc improved from 0.56405 to 0.57449, saving model to lstm3_re.h5\n",
      "2549/2549 [==============================] - 21s 8ms/step - loss: 1.0946 - acc: 0.5880 - val_loss: 1.1254 - val_acc: 0.5745\n",
      "Epoch 7/30\n",
      "2548/2549 [============================>.] - ETA: 0s - loss: 1.0584 - acc: 0.6022\n",
      "Epoch 00007: val_acc improved from 0.57449 to 0.58795, saving model to lstm3_re.h5\n",
      "2549/2549 [==============================] - 21s 8ms/step - loss: 1.0583 - acc: 0.6022 - val_loss: 1.1061 - val_acc: 0.5879\n",
      "Epoch 8/30\n",
      "2544/2549 [============================>.] - ETA: 0s - loss: 1.0219 - acc: 0.6140\n",
      "Epoch 00008: val_acc did not improve from 0.58795\n",
      "2549/2549 [==============================] - 21s 8ms/step - loss: 1.0220 - acc: 0.6139 - val_loss: 1.1134 - val_acc: 0.5838\n",
      "Epoch 9/30\n",
      "2549/2549 [==============================] - ETA: 0s - loss: 0.9881 - acc: 0.6273\n",
      "Epoch 00009: val_acc improved from 0.58795 to 0.59564, saving model to lstm3_re.h5\n",
      "2549/2549 [==============================] - 21s 8ms/step - loss: 0.9881 - acc: 0.6273 - val_loss: 1.0908 - val_acc: 0.5956\n",
      "Epoch 10/30\n",
      "2549/2549 [==============================] - ETA: 0s - loss: 0.9594 - acc: 0.6390\n",
      "Epoch 00010: val_acc did not improve from 0.59564\n",
      "2549/2549 [==============================] - 21s 8ms/step - loss: 0.9594 - acc: 0.6390 - val_loss: 1.1028 - val_acc: 0.5895\n",
      "Epoch 11/30\n",
      "2549/2549 [==============================] - ETA: 0s - loss: 0.9284 - acc: 0.6477\n",
      "Epoch 00011: val_acc did not improve from 0.59564\n",
      "2549/2549 [==============================] - 21s 8ms/step - loss: 0.9284 - acc: 0.6477 - val_loss: 1.0813 - val_acc: 0.5939\n",
      "Epoch 12/30\n",
      "2548/2549 [============================>.] - ETA: 0s - loss: 0.8968 - acc: 0.6618\n",
      "Epoch 00012: val_acc did not improve from 0.59564\n",
      "2549/2549 [==============================] - 21s 8ms/step - loss: 0.8968 - acc: 0.6617 - val_loss: 1.1385 - val_acc: 0.5852\n",
      "Epoch 13/30\n",
      "2543/2549 [============================>.] - ETA: 0s - loss: 0.8665 - acc: 0.6743\n",
      "Epoch 00013: val_acc improved from 0.59564 to 0.60324, saving model to lstm3_re.h5\n",
      "2549/2549 [==============================] - 21s 8ms/step - loss: 0.8668 - acc: 0.6742 - val_loss: 1.1095 - val_acc: 0.6032\n",
      "Epoch 14/30\n",
      "2549/2549 [==============================] - ETA: 0s - loss: 0.8334 - acc: 0.6863\n",
      "Epoch 00014: val_acc did not improve from 0.60324\n",
      "2549/2549 [==============================] - 21s 8ms/step - loss: 0.8334 - acc: 0.6863 - val_loss: 1.1262 - val_acc: 0.5984\n",
      "Epoch 15/30\n",
      "2548/2549 [============================>.] - ETA: 0s - loss: 0.8051 - acc: 0.6974\n",
      "Epoch 00015: val_acc did not improve from 0.60324\n",
      "2549/2549 [==============================] - 21s 8ms/step - loss: 0.8051 - acc: 0.6974 - val_loss: 1.1509 - val_acc: 0.5910\n",
      "Epoch 16/30\n",
      "2544/2549 [============================>.] - ETA: 0s - loss: 0.7730 - acc: 0.7099\n",
      "Epoch 00016: val_acc did not improve from 0.60324\n",
      "2549/2549 [==============================] - 21s 8ms/step - loss: 0.7731 - acc: 0.7098 - val_loss: 1.1553 - val_acc: 0.5940\n",
      "Epoch 17/30\n",
      "2549/2549 [==============================] - ETA: 0s - loss: 0.7387 - acc: 0.7227\n",
      "Epoch 00017: val_acc did not improve from 0.60324\n",
      "2549/2549 [==============================] - 21s 8ms/step - loss: 0.7387 - acc: 0.7227 - val_loss: 1.1812 - val_acc: 0.5939\n",
      "Epoch 18/30\n",
      "2549/2549 [==============================] - ETA: 0s - loss: 0.7081 - acc: 0.7369\n",
      "Epoch 00018: val_acc did not improve from 0.60324\n",
      "2549/2549 [==============================] - 21s 8ms/step - loss: 0.7081 - acc: 0.7369 - val_loss: 1.2072 - val_acc: 0.5912\n",
      "Epoch 19/30\n",
      "2544/2549 [============================>.] - ETA: 0s - loss: 0.6786 - acc: 0.7480\n",
      "Epoch 00019: val_acc did not improve from 0.60324\n",
      "2549/2549 [==============================] - 21s 8ms/step - loss: 0.6787 - acc: 0.7480 - val_loss: 1.2680 - val_acc: 0.5885\n",
      "Epoch 20/30\n",
      "2549/2549 [==============================] - ETA: 0s - loss: 0.6497 - acc: 0.7599\n",
      "Epoch 00020: val_acc did not improve from 0.60324\n",
      "2549/2549 [==============================] - 21s 8ms/step - loss: 0.6497 - acc: 0.7599 - val_loss: 1.3367 - val_acc: 0.5852\n",
      "Epoch 21/30\n",
      "2548/2549 [============================>.] - ETA: 0s - loss: 0.6221 - acc: 0.7711\n",
      "Epoch 00021: val_acc did not improve from 0.60324\n",
      "2549/2549 [==============================] - 21s 8ms/step - loss: 0.6221 - acc: 0.7712 - val_loss: 1.3384 - val_acc: 0.5881\n",
      "Epoch 22/30\n",
      "2543/2549 [============================>.] - ETA: 0s - loss: 0.5978 - acc: 0.7796\n",
      "Epoch 00022: val_acc did not improve from 0.60324\n",
      "2549/2549 [==============================] - 21s 8ms/step - loss: 0.5980 - acc: 0.7795 - val_loss: 1.3860 - val_acc: 0.5831\n",
      "Epoch 23/30\n",
      "2549/2549 [==============================] - ETA: 0s - loss: 0.5693 - acc: 0.7913\n",
      "Epoch 00023: val_acc did not improve from 0.60324\n",
      "2549/2549 [==============================] - 21s 8ms/step - loss: 0.5693 - acc: 0.7913 - val_loss: 1.4195 - val_acc: 0.5854\n",
      "Epoch 24/30\n",
      "2549/2549 [==============================] - ETA: 0s - loss: 0.5416 - acc: 0.8032\n",
      "Epoch 00024: val_acc did not improve from 0.60324\n",
      "2549/2549 [==============================] - 21s 8ms/step - loss: 0.5416 - acc: 0.8032 - val_loss: 1.5337 - val_acc: 0.5790\n",
      "Epoch 25/30\n",
      "2543/2549 [============================>.] - ETA: 0s - loss: 0.5189 - acc: 0.8121\n",
      "Epoch 00025: val_acc did not improve from 0.60324\n",
      "2549/2549 [==============================] - 21s 8ms/step - loss: 0.5190 - acc: 0.8121 - val_loss: 1.4862 - val_acc: 0.5741\n",
      "Epoch 26/30\n",
      "2548/2549 [============================>.] - ETA: 0s - loss: 0.4989 - acc: 0.8205\n",
      "Epoch 00026: val_acc did not improve from 0.60324\n",
      "2549/2549 [==============================] - 21s 8ms/step - loss: 0.4988 - acc: 0.8205 - val_loss: 1.5211 - val_acc: 0.5826\n",
      "Epoch 27/30\n",
      "2549/2549 [==============================] - ETA: 0s - loss: 0.4774 - acc: 0.8284\n",
      "Epoch 00027: val_acc did not improve from 0.60324\n",
      "2549/2549 [==============================] - 21s 8ms/step - loss: 0.4774 - acc: 0.8284 - val_loss: 1.5715 - val_acc: 0.5705\n",
      "Epoch 28/30\n",
      "2549/2549 [==============================] - ETA: 0s - loss: 0.4541 - acc: 0.8386\n",
      "Epoch 00028: val_acc did not improve from 0.60324\n",
      "2549/2549 [==============================] - 21s 8ms/step - loss: 0.4541 - acc: 0.8386 - val_loss: 1.6839 - val_acc: 0.5728\n",
      "Epoch 29/30\n",
      "2549/2549 [==============================] - ETA: 0s - loss: 0.4367 - acc: 0.8444\n",
      "Epoch 00029: val_acc did not improve from 0.60324\n",
      "2549/2549 [==============================] - 21s 8ms/step - loss: 0.4367 - acc: 0.8444 - val_loss: 1.7259 - val_acc: 0.5622\n",
      "Epoch 30/30\n",
      "2543/2549 [============================>.] - ETA: 0s - loss: 0.4161 - acc: 0.8526\n",
      "Epoch 00030: val_acc did not improve from 0.60324\n",
      "2549/2549 [==============================] - 21s 8ms/step - loss: 0.4162 - acc: 0.8526 - val_loss: 1.7950 - val_acc: 0.5642\n"
     ]
    }
   ],
   "source": [
    "history = model.fit(X_train_pad, y_train_onehot_arr, batch_size=20, callbacks=mc, epochs=30, validation_data = (X_test_pad, y_test_onehot_arr))"
   ]
  },
  {
   "cell_type": "code",
   "execution_count": 102,
   "metadata": {},
   "outputs": [
    {
     "name": "stdout",
     "output_type": "stream",
     "text": [
      "Model: \"sequential\"\n",
      "_________________________________________________________________\n",
      " Layer (type)                Output Shape              Param #   \n",
      "=================================================================\n",
      " bidirectional (Bidirectiona  (None, 30, 128)          84480     \n",
      " l)                                                              \n",
      "                                                                 \n",
      " lstm_1 (LSTM)               (None, 30, 64)            49408     \n",
      "                                                                 \n",
      " lstm_2 (LSTM)               (None, 32)                12416     \n",
      "                                                                 \n",
      " dense (Dense)               (None, 8)                 264       \n",
      "                                                                 \n",
      " dense_1 (Dense)             (None, 7)                 63        \n",
      "                                                                 \n",
      "=================================================================\n",
      "Total params: 146,631\n",
      "Trainable params: 146,631\n",
      "Non-trainable params: 0\n",
      "_________________________________________________________________\n"
     ]
    }
   ],
   "source": [
    "model.summary()"
   ]
  },
  {
   "cell_type": "code",
   "execution_count": 103,
   "metadata": {
    "scrolled": true
   },
   "outputs": [
    {
     "name": "stdout",
     "output_type": "stream",
     "text": [
      "342/342 [==============================] - 2s 4ms/step - loss: 1.1107 - acc: 0.5984\n",
      "\n",
      " 테스트 정확도: 0.5984\n"
     ]
    }
   ],
   "source": [
    "loaded_model = load_model('lstm3_re.h5')\n",
    "print(\"\\n 테스트 정확도: %.4f\" % (loaded_model.evaluate(X_validation_pad, y_validation_onehot_arr)[1]))"
   ]
  },
  {
   "cell_type": "code",
   "execution_count": null,
   "metadata": {},
   "outputs": [],
   "source": []
  },
  {
   "cell_type": "markdown",
   "metadata": {},
   "source": [
    "## GRU"
   ]
  },
  {
   "cell_type": "code",
   "execution_count": 158,
   "metadata": {},
   "outputs": [],
   "source": [
    "from tensorflow.keras.layers import Dense, GRU\n",
    "from tensorflow.keras import Model\n",
    "import tensorflow as tf"
   ]
  },
  {
   "cell_type": "code",
   "execution_count": 159,
   "metadata": {},
   "outputs": [],
   "source": [
    "tf.keras.backend.clear_session()"
   ]
  },
  {
   "cell_type": "code",
   "execution_count": 160,
   "metadata": {},
   "outputs": [],
   "source": [
    "model = tf.keras.Sequential([\n",
    "            tf.keras.layers.GRU(units=60, return_sequences=True, input_shape=(max_len, 100)),\n",
    "            tf.keras.layers.GRU(units=50, return_sequences=False),\n",
    "            tf.keras.layers.Dense(40),\n",
    "            tf.keras.layers.Dense(20),\n",
    "            tf.keras.layers.Dense(7,activation = 'softmax')\n",
    "            ])"
   ]
  },
  {
   "cell_type": "code",
   "execution_count": 161,
   "metadata": {},
   "outputs": [],
   "source": [
    "mc = ModelCheckpoint('gru1.h5', monitor='val_acc', mode='max', verbose=1, save_best_only=True)"
   ]
  },
  {
   "cell_type": "code",
   "execution_count": 162,
   "metadata": {},
   "outputs": [],
   "source": [
    "model.compile(optimizer='adam', loss='categorical_crossentropy') "
   ]
  },
  {
   "cell_type": "code",
   "execution_count": 156,
   "metadata": {
    "scrolled": false
   },
   "outputs": [
    {
     "name": "stdout",
     "output_type": "stream",
     "text": [
      "Model: \"sequential\"\n",
      "_________________________________________________________________\n",
      " Layer (type)                Output Shape              Param #   \n",
      "=================================================================\n",
      " gru (GRU)                   (None, 30, 60)            29160     \n",
      "                                                                 \n",
      " gru_1 (GRU)                 (None, 50)                16800     \n",
      "                                                                 \n",
      " dense (Dense)               (None, 40)                2040      \n",
      "                                                                 \n",
      " dense_1 (Dense)             (None, 20)                820       \n",
      "                                                                 \n",
      " dense_2 (Dense)             (None, 7)                 147       \n",
      "                                                                 \n",
      "=================================================================\n",
      "Total params: 48,967\n",
      "Trainable params: 48,967\n",
      "Non-trainable params: 0\n",
      "_________________________________________________________________\n"
     ]
    }
   ],
   "source": [
    "model.summary()"
   ]
  },
  {
   "cell_type": "code",
   "execution_count": 164,
   "metadata": {
    "scrolled": true
   },
   "outputs": [
    {
     "name": "stdout",
     "output_type": "stream",
     "text": [
      "Epoch 1/30\n",
      "2030/2039 [============================>.] - ETA: 0s - loss: 1.2552WARNING:tensorflow:Can save best model only with val_acc available, skipping.\n",
      "2039/2039 [==============================] - 10s 5ms/step - loss: 1.2551 - val_loss: 1.2281\n",
      "Epoch 2/30\n",
      "2028/2039 [============================>.] - ETA: 0s - loss: 1.1923WARNING:tensorflow:Can save best model only with val_acc available, skipping.\n",
      "2039/2039 [==============================] - 10s 5ms/step - loss: 1.1925 - val_loss: 1.1921\n",
      "Epoch 3/30\n",
      "1716/2039 [========================>.....] - ETA: 1s - loss: 1.1459"
     ]
    },
    {
     "ename": "KeyboardInterrupt",
     "evalue": "",
     "output_type": "error",
     "traceback": [
      "\u001b[0;31m\u001b[0m",
      "\u001b[0;31mKeyboardInterrupt\u001b[0mTraceback (most recent call last)",
      "\u001b[0;32m<ipython-input-164-6c4819589c3b>\u001b[0m in \u001b[0;36m<module>\u001b[0;34m\u001b[0m\n\u001b[0;32m----> 1\u001b[0;31m \u001b[0mhistory\u001b[0m \u001b[0;34m=\u001b[0m \u001b[0mmodel\u001b[0m\u001b[0;34m.\u001b[0m\u001b[0mfit\u001b[0m\u001b[0;34m(\u001b[0m\u001b[0mX_train_pad\u001b[0m\u001b[0;34m,\u001b[0m \u001b[0my_train_onehot_arr\u001b[0m\u001b[0;34m,\u001b[0m \u001b[0mepochs\u001b[0m\u001b[0;34m=\u001b[0m\u001b[0;36m30\u001b[0m\u001b[0;34m,\u001b[0m \u001b[0mbatch_size\u001b[0m\u001b[0;34m=\u001b[0m\u001b[0;36m20\u001b[0m\u001b[0;34m,\u001b[0m \u001b[0mcallbacks\u001b[0m\u001b[0;34m=\u001b[0m\u001b[0mmc\u001b[0m\u001b[0;34m,\u001b[0m \u001b[0mvalidation_split\u001b[0m\u001b[0;34m=\u001b[0m\u001b[0;36m0.2\u001b[0m\u001b[0;34m)\u001b[0m\u001b[0;34m\u001b[0m\u001b[0;34m\u001b[0m\u001b[0m\n\u001b[0m",
      "\u001b[0;32m/usr/local/lib/python3.8/dist-packages/keras/utils/traceback_utils.py\u001b[0m in \u001b[0;36merror_handler\u001b[0;34m(*args, **kwargs)\u001b[0m\n\u001b[1;32m     62\u001b[0m     \u001b[0mfiltered_tb\u001b[0m \u001b[0;34m=\u001b[0m \u001b[0;32mNone\u001b[0m\u001b[0;34m\u001b[0m\u001b[0;34m\u001b[0m\u001b[0m\n\u001b[1;32m     63\u001b[0m     \u001b[0;32mtry\u001b[0m\u001b[0;34m:\u001b[0m\u001b[0;34m\u001b[0m\u001b[0;34m\u001b[0m\u001b[0m\n\u001b[0;32m---> 64\u001b[0;31m       \u001b[0;32mreturn\u001b[0m \u001b[0mfn\u001b[0m\u001b[0;34m(\u001b[0m\u001b[0;34m*\u001b[0m\u001b[0margs\u001b[0m\u001b[0;34m,\u001b[0m \u001b[0;34m**\u001b[0m\u001b[0mkwargs\u001b[0m\u001b[0;34m)\u001b[0m\u001b[0;34m\u001b[0m\u001b[0;34m\u001b[0m\u001b[0m\n\u001b[0m\u001b[1;32m     65\u001b[0m     \u001b[0;32mexcept\u001b[0m \u001b[0mException\u001b[0m \u001b[0;32mas\u001b[0m \u001b[0me\u001b[0m\u001b[0;34m:\u001b[0m  \u001b[0;31m# pylint: disable=broad-except\u001b[0m\u001b[0;34m\u001b[0m\u001b[0;34m\u001b[0m\u001b[0m\n\u001b[1;32m     66\u001b[0m       \u001b[0mfiltered_tb\u001b[0m \u001b[0;34m=\u001b[0m \u001b[0m_process_traceback_frames\u001b[0m\u001b[0;34m(\u001b[0m\u001b[0me\u001b[0m\u001b[0;34m.\u001b[0m\u001b[0m__traceback__\u001b[0m\u001b[0;34m)\u001b[0m\u001b[0;34m\u001b[0m\u001b[0;34m\u001b[0m\u001b[0m\n",
      "\u001b[0;32m/usr/local/lib/python3.8/dist-packages/keras/engine/training.py\u001b[0m in \u001b[0;36mfit\u001b[0;34m(self, x, y, batch_size, epochs, verbose, callbacks, validation_split, validation_data, shuffle, class_weight, sample_weight, initial_epoch, steps_per_epoch, validation_steps, validation_batch_size, validation_freq, max_queue_size, workers, use_multiprocessing)\u001b[0m\n\u001b[1;32m   1214\u001b[0m                 _r=1):\n\u001b[1;32m   1215\u001b[0m               \u001b[0mcallbacks\u001b[0m\u001b[0;34m.\u001b[0m\u001b[0mon_train_batch_begin\u001b[0m\u001b[0;34m(\u001b[0m\u001b[0mstep\u001b[0m\u001b[0;34m)\u001b[0m\u001b[0;34m\u001b[0m\u001b[0;34m\u001b[0m\u001b[0m\n\u001b[0;32m-> 1216\u001b[0;31m               \u001b[0mtmp_logs\u001b[0m \u001b[0;34m=\u001b[0m \u001b[0mself\u001b[0m\u001b[0;34m.\u001b[0m\u001b[0mtrain_function\u001b[0m\u001b[0;34m(\u001b[0m\u001b[0miterator\u001b[0m\u001b[0;34m)\u001b[0m\u001b[0;34m\u001b[0m\u001b[0;34m\u001b[0m\u001b[0m\n\u001b[0m\u001b[1;32m   1217\u001b[0m               \u001b[0;32mif\u001b[0m \u001b[0mdata_handler\u001b[0m\u001b[0;34m.\u001b[0m\u001b[0mshould_sync\u001b[0m\u001b[0;34m:\u001b[0m\u001b[0;34m\u001b[0m\u001b[0;34m\u001b[0m\u001b[0m\n\u001b[1;32m   1218\u001b[0m                 \u001b[0mcontext\u001b[0m\u001b[0;34m.\u001b[0m\u001b[0masync_wait\u001b[0m\u001b[0;34m(\u001b[0m\u001b[0;34m)\u001b[0m\u001b[0;34m\u001b[0m\u001b[0;34m\u001b[0m\u001b[0m\n",
      "\u001b[0;32m/usr/local/lib/python3.8/dist-packages/tensorflow/python/util/traceback_utils.py\u001b[0m in \u001b[0;36merror_handler\u001b[0;34m(*args, **kwargs)\u001b[0m\n\u001b[1;32m    148\u001b[0m     \u001b[0mfiltered_tb\u001b[0m \u001b[0;34m=\u001b[0m \u001b[0;32mNone\u001b[0m\u001b[0;34m\u001b[0m\u001b[0;34m\u001b[0m\u001b[0m\n\u001b[1;32m    149\u001b[0m     \u001b[0;32mtry\u001b[0m\u001b[0;34m:\u001b[0m\u001b[0;34m\u001b[0m\u001b[0;34m\u001b[0m\u001b[0m\n\u001b[0;32m--> 150\u001b[0;31m       \u001b[0;32mreturn\u001b[0m \u001b[0mfn\u001b[0m\u001b[0;34m(\u001b[0m\u001b[0;34m*\u001b[0m\u001b[0margs\u001b[0m\u001b[0;34m,\u001b[0m \u001b[0;34m**\u001b[0m\u001b[0mkwargs\u001b[0m\u001b[0;34m)\u001b[0m\u001b[0;34m\u001b[0m\u001b[0;34m\u001b[0m\u001b[0m\n\u001b[0m\u001b[1;32m    151\u001b[0m     \u001b[0;32mexcept\u001b[0m \u001b[0mException\u001b[0m \u001b[0;32mas\u001b[0m \u001b[0me\u001b[0m\u001b[0;34m:\u001b[0m\u001b[0;34m\u001b[0m\u001b[0;34m\u001b[0m\u001b[0m\n\u001b[1;32m    152\u001b[0m       \u001b[0mfiltered_tb\u001b[0m \u001b[0;34m=\u001b[0m \u001b[0m_process_traceback_frames\u001b[0m\u001b[0;34m(\u001b[0m\u001b[0me\u001b[0m\u001b[0;34m.\u001b[0m\u001b[0m__traceback__\u001b[0m\u001b[0;34m)\u001b[0m\u001b[0;34m\u001b[0m\u001b[0;34m\u001b[0m\u001b[0m\n",
      "\u001b[0;32m/usr/local/lib/python3.8/dist-packages/tensorflow/python/eager/def_function.py\u001b[0m in \u001b[0;36m__call__\u001b[0;34m(self, *args, **kwds)\u001b[0m\n\u001b[1;32m    908\u001b[0m \u001b[0;34m\u001b[0m\u001b[0m\n\u001b[1;32m    909\u001b[0m       \u001b[0;32mwith\u001b[0m \u001b[0mOptionalXlaContext\u001b[0m\u001b[0;34m(\u001b[0m\u001b[0mself\u001b[0m\u001b[0;34m.\u001b[0m\u001b[0m_jit_compile\u001b[0m\u001b[0;34m)\u001b[0m\u001b[0;34m:\u001b[0m\u001b[0;34m\u001b[0m\u001b[0;34m\u001b[0m\u001b[0m\n\u001b[0;32m--> 910\u001b[0;31m         \u001b[0mresult\u001b[0m \u001b[0;34m=\u001b[0m \u001b[0mself\u001b[0m\u001b[0;34m.\u001b[0m\u001b[0m_call\u001b[0m\u001b[0;34m(\u001b[0m\u001b[0;34m*\u001b[0m\u001b[0margs\u001b[0m\u001b[0;34m,\u001b[0m \u001b[0;34m**\u001b[0m\u001b[0mkwds\u001b[0m\u001b[0;34m)\u001b[0m\u001b[0;34m\u001b[0m\u001b[0;34m\u001b[0m\u001b[0m\n\u001b[0m\u001b[1;32m    911\u001b[0m \u001b[0;34m\u001b[0m\u001b[0m\n\u001b[1;32m    912\u001b[0m       \u001b[0mnew_tracing_count\u001b[0m \u001b[0;34m=\u001b[0m \u001b[0mself\u001b[0m\u001b[0;34m.\u001b[0m\u001b[0mexperimental_get_tracing_count\u001b[0m\u001b[0;34m(\u001b[0m\u001b[0;34m)\u001b[0m\u001b[0;34m\u001b[0m\u001b[0;34m\u001b[0m\u001b[0m\n",
      "\u001b[0;32m/usr/local/lib/python3.8/dist-packages/tensorflow/python/eager/def_function.py\u001b[0m in \u001b[0;36m_call\u001b[0;34m(self, *args, **kwds)\u001b[0m\n\u001b[1;32m    940\u001b[0m       \u001b[0;31m# In this case we have created variables on the first call, so we run the\u001b[0m\u001b[0;34m\u001b[0m\u001b[0;34m\u001b[0m\u001b[0;34m\u001b[0m\u001b[0m\n\u001b[1;32m    941\u001b[0m       \u001b[0;31m# defunned version which is guaranteed to never create variables.\u001b[0m\u001b[0;34m\u001b[0m\u001b[0;34m\u001b[0m\u001b[0;34m\u001b[0m\u001b[0m\n\u001b[0;32m--> 942\u001b[0;31m       \u001b[0;32mreturn\u001b[0m \u001b[0mself\u001b[0m\u001b[0;34m.\u001b[0m\u001b[0m_stateless_fn\u001b[0m\u001b[0;34m(\u001b[0m\u001b[0;34m*\u001b[0m\u001b[0margs\u001b[0m\u001b[0;34m,\u001b[0m \u001b[0;34m**\u001b[0m\u001b[0mkwds\u001b[0m\u001b[0;34m)\u001b[0m  \u001b[0;31m# pylint: disable=not-callable\u001b[0m\u001b[0;34m\u001b[0m\u001b[0;34m\u001b[0m\u001b[0m\n\u001b[0m\u001b[1;32m    943\u001b[0m     \u001b[0;32melif\u001b[0m \u001b[0mself\u001b[0m\u001b[0;34m.\u001b[0m\u001b[0m_stateful_fn\u001b[0m \u001b[0;32mis\u001b[0m \u001b[0;32mnot\u001b[0m \u001b[0;32mNone\u001b[0m\u001b[0;34m:\u001b[0m\u001b[0;34m\u001b[0m\u001b[0;34m\u001b[0m\u001b[0m\n\u001b[1;32m    944\u001b[0m       \u001b[0;31m# Release the lock early so that multiple threads can perform the call\u001b[0m\u001b[0;34m\u001b[0m\u001b[0;34m\u001b[0m\u001b[0;34m\u001b[0m\u001b[0m\n",
      "\u001b[0;32m/usr/local/lib/python3.8/dist-packages/tensorflow/python/eager/function.py\u001b[0m in \u001b[0;36m__call__\u001b[0;34m(self, *args, **kwargs)\u001b[0m\n\u001b[1;32m   3128\u001b[0m       (graph_function,\n\u001b[1;32m   3129\u001b[0m        filtered_flat_args) = self._maybe_define_function(args, kwargs)\n\u001b[0;32m-> 3130\u001b[0;31m     return graph_function._call_flat(\n\u001b[0m\u001b[1;32m   3131\u001b[0m         filtered_flat_args, captured_inputs=graph_function.captured_inputs)  # pylint: disable=protected-access\n\u001b[1;32m   3132\u001b[0m \u001b[0;34m\u001b[0m\u001b[0m\n",
      "\u001b[0;32m/usr/local/lib/python3.8/dist-packages/tensorflow/python/eager/function.py\u001b[0m in \u001b[0;36m_call_flat\u001b[0;34m(self, args, captured_inputs, cancellation_manager)\u001b[0m\n\u001b[1;32m   1957\u001b[0m         and executing_eagerly):\n\u001b[1;32m   1958\u001b[0m       \u001b[0;31m# No tape is watching; skip to running the function.\u001b[0m\u001b[0;34m\u001b[0m\u001b[0;34m\u001b[0m\u001b[0;34m\u001b[0m\u001b[0m\n\u001b[0;32m-> 1959\u001b[0;31m       return self._build_call_outputs(self._inference_function.call(\n\u001b[0m\u001b[1;32m   1960\u001b[0m           ctx, args, cancellation_manager=cancellation_manager))\n\u001b[1;32m   1961\u001b[0m     forward_backward = self._select_forward_and_backward_functions(\n",
      "\u001b[0;32m/usr/local/lib/python3.8/dist-packages/tensorflow/python/eager/function.py\u001b[0m in \u001b[0;36mcall\u001b[0;34m(self, ctx, args, cancellation_manager)\u001b[0m\n\u001b[1;32m    596\u001b[0m       \u001b[0;32mwith\u001b[0m \u001b[0m_InterpolateFunctionError\u001b[0m\u001b[0;34m(\u001b[0m\u001b[0mself\u001b[0m\u001b[0;34m)\u001b[0m\u001b[0;34m:\u001b[0m\u001b[0;34m\u001b[0m\u001b[0;34m\u001b[0m\u001b[0m\n\u001b[1;32m    597\u001b[0m         \u001b[0;32mif\u001b[0m \u001b[0mcancellation_manager\u001b[0m \u001b[0;32mis\u001b[0m \u001b[0;32mNone\u001b[0m\u001b[0;34m:\u001b[0m\u001b[0;34m\u001b[0m\u001b[0;34m\u001b[0m\u001b[0m\n\u001b[0;32m--> 598\u001b[0;31m           outputs = execute.execute(\n\u001b[0m\u001b[1;32m    599\u001b[0m               \u001b[0mstr\u001b[0m\u001b[0;34m(\u001b[0m\u001b[0mself\u001b[0m\u001b[0;34m.\u001b[0m\u001b[0msignature\u001b[0m\u001b[0;34m.\u001b[0m\u001b[0mname\u001b[0m\u001b[0;34m)\u001b[0m\u001b[0;34m,\u001b[0m\u001b[0;34m\u001b[0m\u001b[0;34m\u001b[0m\u001b[0m\n\u001b[1;32m    600\u001b[0m               \u001b[0mnum_outputs\u001b[0m\u001b[0;34m=\u001b[0m\u001b[0mself\u001b[0m\u001b[0;34m.\u001b[0m\u001b[0m_num_outputs\u001b[0m\u001b[0;34m,\u001b[0m\u001b[0;34m\u001b[0m\u001b[0;34m\u001b[0m\u001b[0m\n",
      "\u001b[0;32m/usr/local/lib/python3.8/dist-packages/tensorflow/python/eager/execute.py\u001b[0m in \u001b[0;36mquick_execute\u001b[0;34m(op_name, num_outputs, inputs, attrs, ctx, name)\u001b[0m\n\u001b[1;32m     56\u001b[0m   \u001b[0;32mtry\u001b[0m\u001b[0;34m:\u001b[0m\u001b[0;34m\u001b[0m\u001b[0;34m\u001b[0m\u001b[0m\n\u001b[1;32m     57\u001b[0m     \u001b[0mctx\u001b[0m\u001b[0;34m.\u001b[0m\u001b[0mensure_initialized\u001b[0m\u001b[0;34m(\u001b[0m\u001b[0;34m)\u001b[0m\u001b[0;34m\u001b[0m\u001b[0;34m\u001b[0m\u001b[0m\n\u001b[0;32m---> 58\u001b[0;31m     tensors = pywrap_tfe.TFE_Py_Execute(ctx._handle, device_name, op_name,\n\u001b[0m\u001b[1;32m     59\u001b[0m                                         inputs, attrs, num_outputs)\n\u001b[1;32m     60\u001b[0m   \u001b[0;32mexcept\u001b[0m \u001b[0mcore\u001b[0m\u001b[0;34m.\u001b[0m\u001b[0m_NotOkStatusException\u001b[0m \u001b[0;32mas\u001b[0m \u001b[0me\u001b[0m\u001b[0;34m:\u001b[0m\u001b[0;34m\u001b[0m\u001b[0;34m\u001b[0m\u001b[0m\n",
      "\u001b[0;31mKeyboardInterrupt\u001b[0m: "
     ]
    }
   ],
   "source": [
    "history = model.fit(X_train_pad, y_train_onehot_arr, epochs=30, batch_size=20, callbacks=mc, validation_data=(X_test_pad,y_test_onehot_arr))"
   ]
  },
  {
   "cell_type": "code",
   "execution_count": null,
   "metadata": {},
   "outputs": [],
   "source": []
  },
  {
   "cell_type": "code",
   "execution_count": 143,
   "metadata": {
    "scrolled": true
   },
   "outputs": [
    {
     "ename": "OSError",
     "evalue": "No file or directory found at gru1.h5",
     "output_type": "error",
     "traceback": [
      "\u001b[0;31m\u001b[0m",
      "\u001b[0;31mOSError\u001b[0mTraceback (most recent call last)",
      "\u001b[0;32m<ipython-input-143-5f32efbc4d95>\u001b[0m in \u001b[0;36m<module>\u001b[0;34m\u001b[0m\n\u001b[0;32m----> 1\u001b[0;31m \u001b[0mloaded_model\u001b[0m \u001b[0;34m=\u001b[0m \u001b[0mload_model\u001b[0m\u001b[0;34m(\u001b[0m\u001b[0;34m'gru1.h5'\u001b[0m\u001b[0;34m)\u001b[0m\u001b[0;34m\u001b[0m\u001b[0;34m\u001b[0m\u001b[0m\n\u001b[0m\u001b[1;32m      2\u001b[0m \u001b[0ml\u001b[0m \u001b[0;34m=\u001b[0m \u001b[0mloaded_model\u001b[0m\u001b[0;34m.\u001b[0m\u001b[0mevaluate\u001b[0m\u001b[0;34m(\u001b[0m\u001b[0mX_validation_pad\u001b[0m\u001b[0;34m,\u001b[0m \u001b[0my_validation_onehot_arr\u001b[0m\u001b[0;34m)\u001b[0m\u001b[0;34m\u001b[0m\u001b[0;34m\u001b[0m\u001b[0m\n\u001b[1;32m      3\u001b[0m \u001b[0mprint\u001b[0m\u001b[0;34m(\u001b[0m\u001b[0ml\u001b[0m\u001b[0;34m[\u001b[0m\u001b[0;36m1\u001b[0m\u001b[0;34m]\u001b[0m\u001b[0;34m)\u001b[0m\u001b[0;34m\u001b[0m\u001b[0;34m\u001b[0m\u001b[0m\n",
      "\u001b[0;32m/usr/local/lib/python3.8/dist-packages/keras/utils/traceback_utils.py\u001b[0m in \u001b[0;36merror_handler\u001b[0;34m(*args, **kwargs)\u001b[0m\n\u001b[1;32m     65\u001b[0m     \u001b[0;32mexcept\u001b[0m \u001b[0mException\u001b[0m \u001b[0;32mas\u001b[0m \u001b[0me\u001b[0m\u001b[0;34m:\u001b[0m  \u001b[0;31m# pylint: disable=broad-except\u001b[0m\u001b[0;34m\u001b[0m\u001b[0;34m\u001b[0m\u001b[0m\n\u001b[1;32m     66\u001b[0m       \u001b[0mfiltered_tb\u001b[0m \u001b[0;34m=\u001b[0m \u001b[0m_process_traceback_frames\u001b[0m\u001b[0;34m(\u001b[0m\u001b[0me\u001b[0m\u001b[0;34m.\u001b[0m\u001b[0m__traceback__\u001b[0m\u001b[0;34m)\u001b[0m\u001b[0;34m\u001b[0m\u001b[0;34m\u001b[0m\u001b[0m\n\u001b[0;32m---> 67\u001b[0;31m       \u001b[0;32mraise\u001b[0m \u001b[0me\u001b[0m\u001b[0;34m.\u001b[0m\u001b[0mwith_traceback\u001b[0m\u001b[0;34m(\u001b[0m\u001b[0mfiltered_tb\u001b[0m\u001b[0;34m)\u001b[0m \u001b[0;32mfrom\u001b[0m \u001b[0;32mNone\u001b[0m\u001b[0;34m\u001b[0m\u001b[0;34m\u001b[0m\u001b[0m\n\u001b[0m\u001b[1;32m     68\u001b[0m     \u001b[0;32mfinally\u001b[0m\u001b[0;34m:\u001b[0m\u001b[0;34m\u001b[0m\u001b[0;34m\u001b[0m\u001b[0m\n\u001b[1;32m     69\u001b[0m       \u001b[0;32mdel\u001b[0m \u001b[0mfiltered_tb\u001b[0m\u001b[0;34m\u001b[0m\u001b[0;34m\u001b[0m\u001b[0m\n",
      "\u001b[0;32m/usr/local/lib/python3.8/dist-packages/keras/saving/save.py\u001b[0m in \u001b[0;36mload_model\u001b[0;34m(filepath, custom_objects, compile, options)\u001b[0m\n\u001b[1;32m    207\u001b[0m         \u001b[0;32mif\u001b[0m \u001b[0misinstance\u001b[0m\u001b[0;34m(\u001b[0m\u001b[0mfilepath\u001b[0m\u001b[0;34m,\u001b[0m \u001b[0mstr\u001b[0m\u001b[0;34m)\u001b[0m\u001b[0;34m:\u001b[0m\u001b[0;34m\u001b[0m\u001b[0;34m\u001b[0m\u001b[0m\n\u001b[1;32m    208\u001b[0m           \u001b[0;32mif\u001b[0m \u001b[0;32mnot\u001b[0m \u001b[0mtf\u001b[0m\u001b[0;34m.\u001b[0m\u001b[0mio\u001b[0m\u001b[0;34m.\u001b[0m\u001b[0mgfile\u001b[0m\u001b[0;34m.\u001b[0m\u001b[0mexists\u001b[0m\u001b[0;34m(\u001b[0m\u001b[0mfilepath\u001b[0m\u001b[0;34m)\u001b[0m\u001b[0;34m:\u001b[0m\u001b[0;34m\u001b[0m\u001b[0;34m\u001b[0m\u001b[0m\n\u001b[0;32m--> 209\u001b[0;31m             \u001b[0;32mraise\u001b[0m \u001b[0mIOError\u001b[0m\u001b[0;34m(\u001b[0m\u001b[0;34mf'No file or directory found at {filepath}'\u001b[0m\u001b[0;34m)\u001b[0m\u001b[0;34m\u001b[0m\u001b[0;34m\u001b[0m\u001b[0m\n\u001b[0m\u001b[1;32m    210\u001b[0m           \u001b[0;32mif\u001b[0m \u001b[0msaving_utils\u001b[0m\u001b[0;34m.\u001b[0m\u001b[0mis_hdf5_filepath\u001b[0m\u001b[0;34m(\u001b[0m\u001b[0mfilepath\u001b[0m\u001b[0;34m)\u001b[0m \u001b[0;32mand\u001b[0m \u001b[0mh5py\u001b[0m \u001b[0;32mis\u001b[0m \u001b[0;32mNone\u001b[0m\u001b[0;34m:\u001b[0m\u001b[0;34m\u001b[0m\u001b[0;34m\u001b[0m\u001b[0m\n\u001b[1;32m    211\u001b[0m             raise ImportError(\n",
      "\u001b[0;31mOSError\u001b[0m: No file or directory found at gru1.h5"
     ]
    }
   ],
   "source": [
    "loaded_model = load_model('gru1.h5')\n",
    "l = loaded_model.evaluate(X_validation_pad, y_validation_onehot_arr)\n",
    "print(l[1])"
   ]
  },
  {
   "cell_type": "code",
   "execution_count": 116,
   "metadata": {},
   "outputs": [
    {
     "name": "stdout",
     "output_type": "stream",
     "text": [
      "Model: \"sequential\"\n",
      "_________________________________________________________________\n",
      " Layer (type)                Output Shape              Param #   \n",
      "=================================================================\n",
      " lstm (LSTM)                 (None, 512)               1255424   \n",
      "                                                                 \n",
      " dense (Dense)               (None, 128)               65664     \n",
      "                                                                 \n",
      " dense_1 (Dense)             (None, 64)                8256      \n",
      "                                                                 \n",
      " dense_2 (Dense)             (None, 32)                2080      \n",
      "                                                                 \n",
      " dense_3 (Dense)             (None, 7)                 231       \n",
      "                                                                 \n",
      "=================================================================\n",
      "Total params: 1,331,655\n",
      "Trainable params: 1,331,655\n",
      "Non-trainable params: 0\n",
      "_________________________________________________________________\n"
     ]
    }
   ],
   "source": [
    "loaded_model.summary()"
   ]
  },
  {
   "cell_type": "markdown",
   "metadata": {},
   "source": [
    "## GPU 사용량 체크"
   ]
  },
  {
   "cell_type": "code",
   "execution_count": null,
   "metadata": {},
   "outputs": [],
   "source": [
    "from tensorflow.python.client import device_lib\n",
    "device_lib.list_local_devices()"
   ]
  },
  {
   "cell_type": "code",
   "execution_count": null,
   "metadata": {},
   "outputs": [],
   "source": [
    "import tensorflow as tf\n",
    "tf.__version__"
   ]
  },
  {
   "cell_type": "code",
   "execution_count": null,
   "metadata": {},
   "outputs": [],
   "source": [
    "from tensorflow.python.client import device_lib\n",
    "device_lib.list_local_devices()\n",
    "tf.test.is_gpu_available()"
   ]
  },
  {
   "cell_type": "code",
   "execution_count": null,
   "metadata": {},
   "outputs": [],
   "source": [
    "tf.config.list_physical_devices('GPU')"
   ]
  },
  {
   "cell_type": "code",
   "execution_count": null,
   "metadata": {},
   "outputs": [],
   "source": [
    "pip list"
   ]
  },
  {
   "cell_type": "code",
   "execution_count": null,
   "metadata": {},
   "outputs": [],
   "source": []
  }
 ],
 "metadata": {
  "colab": {
   "collapsed_sections": [],
   "name": "Untitled2.ipynb",
   "provenance": []
  },
  "kernelspec": {
   "display_name": "Python 3",
   "language": "python",
   "name": "python3"
  },
  "language_info": {
   "codemirror_mode": {
    "name": "ipython",
    "version": 3
   },
   "file_extension": ".py",
   "mimetype": "text/x-python",
   "name": "python",
   "nbconvert_exporter": "python",
   "pygments_lexer": "ipython3",
   "version": "3.8.10"
  }
 },
 "nbformat": 4,
 "nbformat_minor": 1
}
